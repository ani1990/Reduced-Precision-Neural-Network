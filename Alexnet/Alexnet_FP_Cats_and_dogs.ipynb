{
 "cells": [
  {
   "cell_type": "code",
   "execution_count": null,
   "metadata": {},
   "outputs": [],
   "source": [
    "#Full Precision Alexnet on Cats and Dogs dataset"
   ]
  },
  {
   "cell_type": "code",
   "execution_count": 1,
   "metadata": {
    "scrolled": true
   },
   "outputs": [
    {
     "name": "stderr",
     "output_type": "stream",
     "text": [
      "Using TensorFlow backend.\n"
     ]
    },
    {
     "name": "stdout",
     "output_type": "stream",
     "text": [
      "Found 8005 images belonging to 2 classes.\n",
      "Found 2023 images belonging to 2 classes.\n",
      "WARNING:tensorflow:From C:\\Users\\Manas\\Anaconda3\\lib\\site-packages\\keras\\backend\\tensorflow_backend.py:4070: The name tf.nn.max_pool is deprecated. Please use tf.nn.max_pool2d instead.\n",
      "\n"
     ]
    }
   ],
   "source": [
    "import keras\n",
    "\n",
    "import matplotlib.pyplot as plt\n",
    "\n",
    "from keras import backend as K\n",
    "\n",
    "from keras.models import Sequential\n",
    "\n",
    "from keras.layers import Dense, Conv2D, Flatten, MaxPool2D\n",
    "\n",
    "from keras.optimizers import Adam,SGD,Adagrad,Adadelta,RMSprop\n",
    "\n",
    "from keras.utils import to_categorical\n",
    "from keras.utils import to_categorical\n",
    "from keras.preprocessing.image import ImageDataGenerator\n",
    "\n",
    "import numpy as np\n",
    "\n",
    "#loading and preprocessing data from dataset\n",
    "#please change path as per dataset in your system\n",
    "\n",
    "trdata = ImageDataGenerator()\n",
    "\n",
    "traindata = trdata.flow_from_directory(directory=\"C:/Users/Manas/Downloads/cat-and-dog/training_set/training_set\",target_size=(227,227))\n",
    "trdata = ImageDataGenerator()\n",
    "\n",
    "testdata = trdata.flow_from_directory(directory=\"C:/Users/Manas/Downloads/cat-and-dog/test_set/test_set\",target_size=(227,227))\n",
    "\n",
    "#defining and creating the model as per architecture\n",
    "model = Sequential()\n",
    "\n",
    "# 1st Convolutional Layer\n",
    "model.add(Conv2D(filters=96, input_shape=(227,227,3), kernel_size=(11,11), strides=(4,4), padding=\"valid\", activation = \"relu\"))\n",
    "\n",
    "# Max Pooling\n",
    "model.add(MaxPool2D(pool_size=(3,3), strides=(2,2), padding=\"valid\"))\n",
    "\n",
    "# 2nd Convolutional Layer\n",
    "model.add(Conv2D(filters=256, kernel_size=(5,5), strides=(1,1), padding=\"same\", activation = \"relu\"))\n",
    "\n",
    "# Max Pooling\n",
    "model.add(MaxPool2D(pool_size=(3,3), strides=(2,2), padding=\"valid\"))\n",
    "\n",
    "# 3rd Convolutional Layer\n",
    "model.add(Conv2D(filters=384, kernel_size=(3,3), strides=(1,1), padding=\"same\", activation = \"relu\"))\n",
    "\n",
    "# 4th Convolutional Layer\n",
    "model.add(Conv2D(filters=384, kernel_size=(3,3), strides=(1,1), padding=\"same\", activation = \"relu\"))\n",
    "\n",
    "# 5th Convolutional Layer\n",
    "model.add(Conv2D(filters=256, kernel_size=(3,3), strides=(1,1), padding=\"same\", activation = \"relu\"))\n",
    "\n",
    "# Max Pooling\n",
    "model.add(MaxPool2D(pool_size=(3,3), strides=(2,2), padding=\"valid\"))\n",
    "\n",
    "# Passing it to a Fully Connected layer\n",
    "model.add(Flatten())\n",
    "# 1st Fully Connected Layer\n",
    "model.add(Dense(units = 9216, activation = \"relu\"))\n",
    "\n",
    "# 2nd Fully Connected Layer\n",
    "model.add(Dense(units = 4096, activation = \"relu\"))\n",
    "\n",
    "# 3rd Fully Connected Layer\n",
    "model.add(Dense(4096, activation = \"relu\"))\n",
    "\n",
    "# Output Layer\n",
    "model.add(Dense(2, activation = \"softmax\")) #As we have two classes"
   ]
  },
  {
   "cell_type": "code",
   "execution_count": 2,
   "metadata": {},
   "outputs": [],
   "source": [
    "from keras.optimizers import Adam\n",
    "opt = Adam(lr=0.001)\n",
    "model.compile(optimizer=opt, loss=keras.losses.categorical_crossentropy, metrics=['accuracy'])"
   ]
  },
  {
   "cell_type": "code",
   "execution_count": 3,
   "metadata": {},
   "outputs": [
    {
     "name": "stdout",
     "output_type": "stream",
     "text": [
      "Model: \"sequential_1\"\n",
      "_________________________________________________________________\n",
      "Layer (type)                 Output Shape              Param #   \n",
      "=================================================================\n",
      "conv2d_1 (Conv2D)            (None, 55, 55, 96)        34944     \n",
      "_________________________________________________________________\n",
      "max_pooling2d_1 (MaxPooling2 (None, 27, 27, 96)        0         \n",
      "_________________________________________________________________\n",
      "conv2d_2 (Conv2D)            (None, 27, 27, 256)       614656    \n",
      "_________________________________________________________________\n",
      "max_pooling2d_2 (MaxPooling2 (None, 13, 13, 256)       0         \n",
      "_________________________________________________________________\n",
      "conv2d_3 (Conv2D)            (None, 13, 13, 384)       885120    \n",
      "_________________________________________________________________\n",
      "conv2d_4 (Conv2D)            (None, 13, 13, 384)       1327488   \n",
      "_________________________________________________________________\n",
      "conv2d_5 (Conv2D)            (None, 13, 13, 256)       884992    \n",
      "_________________________________________________________________\n",
      "max_pooling2d_3 (MaxPooling2 (None, 6, 6, 256)         0         \n",
      "_________________________________________________________________\n",
      "flatten_1 (Flatten)          (None, 9216)              0         \n",
      "_________________________________________________________________\n",
      "dense_1 (Dense)              (None, 9216)              84943872  \n",
      "_________________________________________________________________\n",
      "dense_2 (Dense)              (None, 4096)              37752832  \n",
      "_________________________________________________________________\n",
      "dense_3 (Dense)              (None, 4096)              16781312  \n",
      "_________________________________________________________________\n",
      "dense_4 (Dense)              (None, 2)                 8194      \n",
      "=================================================================\n",
      "Total params: 143,233,410\n",
      "Trainable params: 143,233,410\n",
      "Non-trainable params: 0\n",
      "_________________________________________________________________\n"
     ]
    }
   ],
   "source": [
    "model.summary()"
   ]
  },
  {
   "cell_type": "code",
   "execution_count": 5,
   "metadata": {},
   "outputs": [],
   "source": [
    "#defining Earlystopping callback and saving the best model for future use\n",
    "from keras.callbacks import ModelCheckpoint, EarlyStopping\n",
    "\n",
    "checkpoint = ModelCheckpoint(\"alexnet_fp_32bit.h5\", monitor='val_acc', verbose=1, save_best_only=True, save_weights_only=False, mode='auto', period=1)\n",
    "\n",
    "early = EarlyStopping(monitor='val_acc', min_delta=0, patience=20, verbose=1, mode='auto')"
   ]
  },
  {
   "cell_type": "code",
   "execution_count": 6,
   "metadata": {},
   "outputs": [
    {
     "name": "stdout",
     "output_type": "stream",
     "text": [
      "WARNING:tensorflow:From C:\\Users\\Manas\\Anaconda3\\lib\\site-packages\\keras\\backend\\tensorflow_backend.py:422: The name tf.global_variables is deprecated. Please use tf.compat.v1.global_variables instead.\n",
      "\n",
      "Epoch 1/30\n",
      "2/2 [==============================] - 33s 17s/step - loss: 26476.4557 - accuracy: 0.4375 - val_loss: 13.5991 - val_accuracy: 0.5188\n"
     ]
    },
    {
     "name": "stderr",
     "output_type": "stream",
     "text": [
      "C:\\Users\\Manas\\Anaconda3\\lib\\site-packages\\keras\\callbacks\\callbacks.py:707: RuntimeWarning: Can save best model only with val_acc available, skipping.\n",
      "  'skipping.' % (self.monitor), RuntimeWarning)\n",
      "C:\\Users\\Manas\\Anaconda3\\lib\\site-packages\\keras\\callbacks\\callbacks.py:846: RuntimeWarning: Early stopping conditioned on metric `val_acc` which is not available. Available metrics are: val_loss,val_accuracy,loss,accuracy\n",
      "  (self.monitor, ','.join(list(logs.keys()))), RuntimeWarning\n"
     ]
    },
    {
     "name": "stdout",
     "output_type": "stream",
     "text": [
      "Epoch 2/30\n",
      "2/2 [==============================] - 55s 27s/step - loss: 9.4681 - accuracy: 0.4375 - val_loss: 2.6396 - val_accuracy: 0.4688\n",
      "Epoch 3/30\n",
      "2/2 [==============================] - 59s 29s/step - loss: 4.6928 - accuracy: 0.4844 - val_loss: 0.6792 - val_accuracy: 0.5125\n",
      "Epoch 4/30\n",
      "2/2 [==============================] - 37s 18s/step - loss: 1.2246 - accuracy: 0.6094 - val_loss: 0.8569 - val_accuracy: 0.4938\n",
      "Epoch 5/30\n",
      "2/2 [==============================] - 67s 33s/step - loss: 0.8750 - accuracy: 0.4375 - val_loss: 0.6738 - val_accuracy: 0.4938\n",
      "Epoch 6/30\n",
      "2/2 [==============================] - 91s 46s/step - loss: 0.7126 - accuracy: 0.5469 - val_loss: 0.7132 - val_accuracy: 0.5031\n",
      "Epoch 7/30\n",
      "2/2 [==============================] - 72s 36s/step - loss: 0.7551 - accuracy: 0.5312 - val_loss: 0.9796 - val_accuracy: 0.5186\n",
      "Epoch 8/30\n",
      "2/2 [==============================] - 97s 49s/step - loss: 0.9031 - accuracy: 0.5312 - val_loss: 0.6915 - val_accuracy: 0.4906\n",
      "Epoch 9/30\n",
      "2/2 [==============================] - 43s 21s/step - loss: 11.0033 - accuracy: 0.5312 - val_loss: 2.3079 - val_accuracy: 0.5125\n",
      "Epoch 10/30\n",
      "2/2 [==============================] - 78s 39s/step - loss: 1.3942 - accuracy: 0.5156 - val_loss: 0.7001 - val_accuracy: 0.5344\n",
      "Epoch 11/30\n",
      "2/2 [==============================] - 73s 37s/step - loss: 0.7812 - accuracy: 0.5000 - val_loss: 1.4841 - val_accuracy: 0.5562\n",
      "Epoch 12/30\n",
      "2/2 [==============================] - 39s 20s/step - loss: 1.1087 - accuracy: 0.5625 - val_loss: 0.6878 - val_accuracy: 0.5500\n",
      "Epoch 13/30\n",
      "2/2 [==============================] - 36s 18s/step - loss: 0.7089 - accuracy: 0.4688 - val_loss: 0.7465 - val_accuracy: 0.5119\n",
      "Epoch 14/30\n",
      "2/2 [==============================] - 30s 15s/step - loss: 0.6841 - accuracy: 0.5781 - val_loss: 0.6710 - val_accuracy: 0.5031\n",
      "Epoch 15/30\n",
      "2/2 [==============================] - 34s 17s/step - loss: 0.7144 - accuracy: 0.5156 - val_loss: 0.6842 - val_accuracy: 0.5750\n",
      "Epoch 16/30\n",
      "2/2 [==============================] - 28s 14s/step - loss: 0.7329 - accuracy: 0.5938 - val_loss: 0.7451 - val_accuracy: 0.4875\n",
      "Epoch 17/30\n",
      "2/2 [==============================] - 127s 64s/step - loss: 0.8054 - accuracy: 0.4219 - val_loss: 0.6787 - val_accuracy: 0.5344\n",
      "Epoch 18/30\n",
      "2/2 [==============================] - 87s 44s/step - loss: 0.7287 - accuracy: 0.5469 - val_loss: 0.6970 - val_accuracy: 0.5125\n",
      "Epoch 19/30\n",
      "2/2 [==============================] - 32s 16s/step - loss: 0.6899 - accuracy: 0.4688 - val_loss: 0.6938 - val_accuracy: 0.4594\n",
      "Epoch 20/30\n",
      "2/2 [==============================] - 32s 16s/step - loss: 0.6926 - accuracy: 0.5469 - val_loss: 0.6934 - val_accuracy: 0.5153\n",
      "Epoch 21/30\n",
      "2/2 [==============================] - 29s 15s/step - loss: 0.6931 - accuracy: 0.4844 - val_loss: 0.6921 - val_accuracy: 0.4938\n",
      "Epoch 22/30\n",
      "2/2 [==============================] - 35s 17s/step - loss: 0.6929 - accuracy: 0.5312 - val_loss: 0.6947 - val_accuracy: 0.4906\n",
      "Epoch 23/30\n",
      "2/2 [==============================] - 41s 21s/step - loss: 0.6930 - accuracy: 0.5156 - val_loss: 0.6938 - val_accuracy: 0.4719\n",
      "Epoch 24/30\n",
      "2/2 [==============================] - 55s 27s/step - loss: 0.6930 - accuracy: 0.5156 - val_loss: 0.6933 - val_accuracy: 0.5312\n",
      "Epoch 25/30\n",
      "2/2 [==============================] - 26s 13s/step - loss: 0.6902 - accuracy: 0.5781 - val_loss: 0.6900 - val_accuracy: 0.5312\n",
      "Epoch 26/30\n",
      "2/2 [==============================] - 19s 10s/step - loss: 0.6954 - accuracy: 0.4844 - val_loss: 0.6890 - val_accuracy: 0.4915\n",
      "Epoch 27/30\n",
      "2/2 [==============================] - 19s 9s/step - loss: 0.6891 - accuracy: 0.5625 - val_loss: 0.6974 - val_accuracy: 0.5250\n",
      "Epoch 28/30\n",
      "2/2 [==============================] - 20s 10s/step - loss: 0.6960 - accuracy: 0.4844 - val_loss: 0.7041 - val_accuracy: 0.4781\n",
      "Epoch 29/30\n",
      "2/2 [==============================] - 20s 10s/step - loss: 0.6977 - accuracy: 0.4688 - val_loss: 0.6913 - val_accuracy: 0.5094\n",
      "Epoch 30/30\n",
      "2/2 [==============================] - 30s 15s/step - loss: 0.6976 - accuracy: 0.4688 - val_loss: 0.6938 - val_accuracy: 0.4906\n"
     ]
    }
   ],
   "source": [
    "#training and validating train and validation data respectively\n",
    "\n",
    "hist = model.fit_generator(steps_per_epoch=2,generator=traindata, validation_data= testdata, \n",
    "                           validation_steps=10,epochs=30,callbacks=[checkpoint,early])"
   ]
  },
  {
   "cell_type": "code",
   "execution_count": 7,
   "metadata": {},
   "outputs": [
    {
     "name": "stdout",
     "output_type": "stream",
     "text": [
      "Saved model to disk\n"
     ]
    }
   ],
   "source": [
    "#Evaluating the model on test data\n",
    "#score = model.evaluate(X_test, Y_test, verbose=0)\n",
    "#saving model for future use\n",
    "model.save(\"model_alexnet_mnist_32_bit.h5\")\n",
    "print(\"Saved model to disk\")"
   ]
  },
  {
   "cell_type": "code",
   "execution_count": 8,
   "metadata": {},
   "outputs": [
    {
     "name": "stdout",
     "output_type": "stream",
     "text": [
      "Training maximum accuracy: 60.94 %\n",
      "Validation maximum accuracy: 57.50 %\n",
      "Training model minimum loss: 0.6840574145317078\n",
      "Validation model minimum loss : 0.6709744334220886\n"
     ]
    },
    {
     "data": {
      "image/png": "[encoded data removed]",
      "text/plain": [
       "<Figure size 432x288 with 1 Axes>"
      ]
     },
     "metadata": {
      "needs_background": "light"
     },
     "output_type": "display_data"
    },
    {
     "data": {
      "image/png": "[encoded data removed]",
      "text/plain": [
       "<Figure size 432x288 with 1 Axes>"
      ]
     },
     "metadata": {
      "needs_background": "light"
     },
     "output_type": "display_data"
    }
   ],
   "source": [
    "#Graph represenattaion of loss and accuracy\n",
    "plt.figure()\n",
    "plt.plot(hist.history[\"acc\"])\n",
    "plt.plot(hist.history[\"val_acc\"])\n",
    "plt.title('model accuracy')\n",
    "plt.ylabel('accuracy')\n",
    "plt.xlabel('epoch')\n",
    "plt.legend(['train', 'Validation'], loc='lower right')\n",
    "plt.figure()\n",
    "print(f\"Training maximum accuracy: {np.max(hist.history['acc']) * 100:.2f} %\")\n",
    "print(f\"Validation maximum accuracy: {np.max(hist.history['val_acc']) * 100:.2f} %\")\n",
    "plt.plot(hist.history['loss'])\n",
    "plt.plot(hist.history['val_loss'])\n",
    "plt.title('model loss')\n",
    "plt.ylabel('loss')\n",
    "plt.xlabel('epoch')\n",
    "plt.legend(['train_loss', 'Validation_loss'], loc='upper right')\n",
    "\n",
    "print(f\"Training model minimum loss: {np.min(hist.history['loss'])}\")\n",
    "print(f\"Validation model minimum loss : {np.min(hist.history['val_loss']) }\")\n"
   ]
  }
 ],
 "metadata": {
  "kernelspec": {
   "display_name": "Python 3",
   "language": "python",
   "name": "python3"
  },
  "language_info": {
   "codemirror_mode": {
    "name": "ipython",
    "version": 3
   },
   "file_extension": ".py",
   "mimetype": "text/x-python",
   "name": "python",
   "nbconvert_exporter": "python",
   "pygments_lexer": "ipython3",
   "version": "3.7.6"
  }
 },
 "nbformat": 4,
 "nbformat_minor": 2
}
