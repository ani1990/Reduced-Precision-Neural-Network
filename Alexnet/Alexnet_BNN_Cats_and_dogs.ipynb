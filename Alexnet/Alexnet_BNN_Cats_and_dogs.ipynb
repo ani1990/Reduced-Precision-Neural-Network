{
 "cells": [
  {
   "cell_type": "code",
   "execution_count": 1,
   "metadata": {},
   "outputs": [],
   "source": [
    "#BNN USING lARQ"
   ]
  },
  {
   "cell_type": "code",
   "execution_count": 2,
   "metadata": {},
   "outputs": [
    {
     "name": "stderr",
     "output_type": "stream",
     "text": [
      "Using TensorFlow backend.\n"
     ]
    }
   ],
   "source": [
    "import numpy as np\n",
    "np.random.seed(100)\n",
    "import tensorflow as tf\n",
    "tf.set_random_seed(0)\n",
    "import matplotlib.pyplot as plt\n",
    "from tensorflow.keras.models import Sequential\n",
    "import keras\n",
    "from keras.layers import Activation\n",
    "from keras.preprocessing.image import ImageDataGenerator\n",
    "from tensorflow.keras.layers import Dense, Dropout, Flatten, Conv2D, MaxPooling2D\n",
    "from tensorflow.keras.callbacks import TensorBoard\n",
    "from tensorflow.keras.optimizers import SGD, Adam, RMSprop\n",
    "from quantized.layers import QuantConv2D,QuantDense\n",
    "from quantized.models import summary\n",
    "from quantized.math import binary_tanh as binary_ops\n",
    "from quantized.quantizers import ste_sign"
   ]
  },
  {
   "cell_type": "code",
   "execution_count": 3,
   "metadata": {},
   "outputs": [
    {
     "name": "stdout",
     "output_type": "stream",
     "text": [
      "Found 8005 images belonging to 2 classes.\n",
      "Found 2023 images belonging to 2 classes.\n"
     ]
    }
   ],
   "source": [
    "#loading customized activation function\n",
    "def binary_tanh(x):\n",
    "    return binary_ops(x)\n",
    "\n",
    "#loading and preprocessing data from dataset\n",
    "#please change path as per dataset in your system\n",
    "trdata = ImageDataGenerator()\n",
    "\n",
    "traindata = trdata.flow_from_directory(directory=\"C:/Users/Manas/Downloads/cat-and-dog/training_set/training_set\",target_size=(227,227))\n",
    "trdata = ImageDataGenerator()\n",
    "\n",
    "testdata = trdata.flow_from_directory(directory=\"C:/Users/Manas/Downloads/cat-and-dog/test_set/test_set\",target_size=(227,227))\n",
    "\n",
    "#kwargs: to be passed to layer of network to binarize the value and operation\n",
    "\n",
    "kwargs = dict(input_quantizer=\"ste_sign\",\n",
    "              kernel_quantizer=\"ste_sign\",\n",
    "              kernel_constraint=\"weight_clip\")"
   ]
  },
  {
   "cell_type": "code",
   "execution_count": 4,
   "metadata": {},
   "outputs": [
    {
     "name": "stdout",
     "output_type": "stream",
     "text": [
      "WARNING:tensorflow:From C:\\Users\\Manas\\Anaconda3\\lib\\site-packages\\tensorflow\\python\\ops\\init_ops.py:1251: calling VarianceScaling.__init__ (from tensorflow.python.ops.init_ops) with dtype is deprecated and will be removed in a future version.\n",
      "Instructions for updating:\n",
      "Call initializer instance with the dtype argument instead of passing it to the constructor\n",
      "WARNING:tensorflow:Entity <bound method QuantizerBase.call of <quantized.layers.QuantConv2D object at 0x000002A9C6B89D30>> could not be transformed and will be executed as-is. Please report this to the AutgoGraph team. When filing the bug, set the verbosity to 10 (on Linux, `export AUTOGRAPH_VERBOSITY=10`) and attach the full output. Cause: converting <bound method QuantizerBase.call of <quantized.layers.QuantConv2D object at 0x000002A9C6B89D30>>: AssertionError: Bad argument number for Name: 3, expecting 4\n",
      "WARNING: Entity <bound method QuantizerBase.call of <quantized.layers.QuantConv2D object at 0x000002A9C6B89D30>> could not be transformed and will be executed as-is. Please report this to the AutgoGraph team. When filing the bug, set the verbosity to 10 (on Linux, `export AUTOGRAPH_VERBOSITY=10`) and attach the full output. Cause: converting <bound method QuantizerBase.call of <quantized.layers.QuantConv2D object at 0x000002A9C6B89D30>>: AssertionError: Bad argument number for Name: 3, expecting 4\n",
      "WARNING:tensorflow:Entity <bound method QuantizerBase.call of <quantized.layers.QuantConv2D object at 0x000002A9C6BADB38>> could not be transformed and will be executed as-is. Please report this to the AutgoGraph team. When filing the bug, set the verbosity to 10 (on Linux, `export AUTOGRAPH_VERBOSITY=10`) and attach the full output. Cause: converting <bound method QuantizerBase.call of <quantized.layers.QuantConv2D object at 0x000002A9C6BADB38>>: AssertionError: Bad argument number for Name: 3, expecting 4\n",
      "WARNING: Entity <bound method QuantizerBase.call of <quantized.layers.QuantConv2D object at 0x000002A9C6BADB38>> could not be transformed and will be executed as-is. Please report this to the AutgoGraph team. When filing the bug, set the verbosity to 10 (on Linux, `export AUTOGRAPH_VERBOSITY=10`) and attach the full output. Cause: converting <bound method QuantizerBase.call of <quantized.layers.QuantConv2D object at 0x000002A9C6BADB38>>: AssertionError: Bad argument number for Name: 3, expecting 4\n",
      "WARNING:tensorflow:Entity <bound method QuantizerBase.call of <quantized.layers.QuantConv2D object at 0x000002A9C6C275F8>> could not be transformed and will be executed as-is. Please report this to the AutgoGraph team. When filing the bug, set the verbosity to 10 (on Linux, `export AUTOGRAPH_VERBOSITY=10`) and attach the full output. Cause: converting <bound method QuantizerBase.call of <quantized.layers.QuantConv2D object at 0x000002A9C6C275F8>>: AssertionError: Bad argument number for Name: 3, expecting 4\n",
      "WARNING: Entity <bound method QuantizerBase.call of <quantized.layers.QuantConv2D object at 0x000002A9C6C275F8>> could not be transformed and will be executed as-is. Please report this to the AutgoGraph team. When filing the bug, set the verbosity to 10 (on Linux, `export AUTOGRAPH_VERBOSITY=10`) and attach the full output. Cause: converting <bound method QuantizerBase.call of <quantized.layers.QuantConv2D object at 0x000002A9C6C275F8>>: AssertionError: Bad argument number for Name: 3, expecting 4\n",
      "WARNING:tensorflow:Entity <bound method QuantizerBase.call of <quantized.layers.QuantConv2D object at 0x000002A9C6B89E48>> could not be transformed and will be executed as-is. Please report this to the AutgoGraph team. When filing the bug, set the verbosity to 10 (on Linux, `export AUTOGRAPH_VERBOSITY=10`) and attach the full output. Cause: converting <bound method QuantizerBase.call of <quantized.layers.QuantConv2D object at 0x000002A9C6B89E48>>: AssertionError: Bad argument number for Name: 3, expecting 4\n",
      "WARNING: Entity <bound method QuantizerBase.call of <quantized.layers.QuantConv2D object at 0x000002A9C6B89E48>> could not be transformed and will be executed as-is. Please report this to the AutgoGraph team. When filing the bug, set the verbosity to 10 (on Linux, `export AUTOGRAPH_VERBOSITY=10`) and attach the full output. Cause: converting <bound method QuantizerBase.call of <quantized.layers.QuantConv2D object at 0x000002A9C6B89E48>>: AssertionError: Bad argument number for Name: 3, expecting 4\n",
      "WARNING:tensorflow:Entity <bound method QuantizerBase.call of <quantized.layers.QuantConv2D object at 0x000002A9C6C45F98>> could not be transformed and will be executed as-is. Please report this to the AutgoGraph team. When filing the bug, set the verbosity to 10 (on Linux, `export AUTOGRAPH_VERBOSITY=10`) and attach the full output. Cause: converting <bound method QuantizerBase.call of <quantized.layers.QuantConv2D object at 0x000002A9C6C45F98>>: AssertionError: Bad argument number for Name: 3, expecting 4\n",
      "WARNING: Entity <bound method QuantizerBase.call of <quantized.layers.QuantConv2D object at 0x000002A9C6C45F98>> could not be transformed and will be executed as-is. Please report this to the AutgoGraph team. When filing the bug, set the verbosity to 10 (on Linux, `export AUTOGRAPH_VERBOSITY=10`) and attach the full output. Cause: converting <bound method QuantizerBase.call of <quantized.layers.QuantConv2D object at 0x000002A9C6C45F98>>: AssertionError: Bad argument number for Name: 3, expecting 4\n",
      "WARNING:tensorflow:Entity <bound method QuantizerBase.call of <quantized.layers.QuantDense object at 0x000002A9C6BF5CC0>> could not be transformed and will be executed as-is. Please report this to the AutgoGraph team. When filing the bug, set the verbosity to 10 (on Linux, `export AUTOGRAPH_VERBOSITY=10`) and attach the full output. Cause: converting <bound method QuantizerBase.call of <quantized.layers.QuantDense object at 0x000002A9C6BF5CC0>>: AssertionError: Bad argument number for Name: 3, expecting 4\n",
      "WARNING: Entity <bound method QuantizerBase.call of <quantized.layers.QuantDense object at 0x000002A9C6BF5CC0>> could not be transformed and will be executed as-is. Please report this to the AutgoGraph team. When filing the bug, set the verbosity to 10 (on Linux, `export AUTOGRAPH_VERBOSITY=10`) and attach the full output. Cause: converting <bound method QuantizerBase.call of <quantized.layers.QuantDense object at 0x000002A9C6BF5CC0>>: AssertionError: Bad argument number for Name: 3, expecting 4\n",
      "WARNING:tensorflow:Entity <bound method QuantizerBase.call of <quantized.layers.QuantDense object at 0x000002A9C6D95C18>> could not be transformed and will be executed as-is. Please report this to the AutgoGraph team. When filing the bug, set the verbosity to 10 (on Linux, `export AUTOGRAPH_VERBOSITY=10`) and attach the full output. Cause: converting <bound method QuantizerBase.call of <quantized.layers.QuantDense object at 0x000002A9C6D95C18>>: AssertionError: Bad argument number for Name: 3, expecting 4\n",
      "WARNING: Entity <bound method QuantizerBase.call of <quantized.layers.QuantDense object at 0x000002A9C6D95C18>> could not be transformed and will be executed as-is. Please report this to the AutgoGraph team. When filing the bug, set the verbosity to 10 (on Linux, `export AUTOGRAPH_VERBOSITY=10`) and attach the full output. Cause: converting <bound method QuantizerBase.call of <quantized.layers.QuantDense object at 0x000002A9C6D95C18>>: AssertionError: Bad argument number for Name: 3, expecting 4\n",
      "WARNING:tensorflow:Entity <bound method QuantizerBase.call of <quantized.layers.QuantDense object at 0x000002A9C6D95F60>> could not be transformed and will be executed as-is. Please report this to the AutgoGraph team. When filing the bug, set the verbosity to 10 (on Linux, `export AUTOGRAPH_VERBOSITY=10`) and attach the full output. Cause: converting <bound method QuantizerBase.call of <quantized.layers.QuantDense object at 0x000002A9C6D95F60>>: AssertionError: Bad argument number for Name: 3, expecting 4\n",
      "WARNING: Entity <bound method QuantizerBase.call of <quantized.layers.QuantDense object at 0x000002A9C6D95F60>> could not be transformed and will be executed as-is. Please report this to the AutgoGraph team. When filing the bug, set the verbosity to 10 (on Linux, `export AUTOGRAPH_VERBOSITY=10`) and attach the full output. Cause: converting <bound method QuantizerBase.call of <quantized.layers.QuantDense object at 0x000002A9C6D95F60>>: AssertionError: Bad argument number for Name: 3, expecting 4\n"
     ]
    },
    {
     "name": "stdout",
     "output_type": "stream",
     "text": [
      "WARNING:tensorflow:Entity <bound method QuantizerBase.call of <quantized.layers.QuantDense object at 0x000002A9C6DA9DD8>> could not be transformed and will be executed as-is. Please report this to the AutgoGraph team. When filing the bug, set the verbosity to 10 (on Linux, `export AUTOGRAPH_VERBOSITY=10`) and attach the full output. Cause: converting <bound method QuantizerBase.call of <quantized.layers.QuantDense object at 0x000002A9C6DA9DD8>>: AssertionError: Bad argument number for Name: 3, expecting 4\n",
      "WARNING: Entity <bound method QuantizerBase.call of <quantized.layers.QuantDense object at 0x000002A9C6DA9DD8>> could not be transformed and will be executed as-is. Please report this to the AutgoGraph team. When filing the bug, set the verbosity to 10 (on Linux, `export AUTOGRAPH_VERBOSITY=10`) and attach the full output. Cause: converting <bound method QuantizerBase.call of <quantized.layers.QuantDense object at 0x000002A9C6DA9DD8>>: AssertionError: Bad argument number for Name: 3, expecting 4\n"
     ]
    }
   ],
   "source": [
    "#defining and creating the model as per architecture\n",
    "model = Sequential()\n",
    "\n",
    "#model.add(Conv2D(256, (3, 3), input_shape=X.shape[1:]))\n",
    "\n",
    "model.add(QuantConv2D(96, (11, 11),\n",
    "                                kernel_quantizer=\"ste_sign\",\n",
    "                                kernel_constraint=\"weight_clip\",\n",
    "                                use_bias=False,strides=4, padding=\"valid\",\n",
    "                                input_shape=(227,227,3),activation = \"relu\"))\n",
    "#model.add(tf.keras.layers.Activation(\"relu\"))\n",
    "# Max Pooling\n",
    "model.add(tf.keras.layers.MaxPooling2D(pool_size=(3,3), strides=(2,2), padding=\"valid\"))\n",
    "\n",
    "# 2nd Convolutional Layer\n",
    "model.add(QuantConv2D(256, (5, 5),**kwargs,\n",
    "                                use_bias=False,data_format='channels_last',\n",
    "                                strides=(1,1), padding=\"same\"))\n",
    "model.add(tf.keras.layers.Activation(binary_tanh))\n",
    "\n",
    "# Max Pooling\n",
    "model.add(tf.keras.layers.MaxPooling2D(pool_size=(3,3), strides=(2,2), padding=\"valid\"))\n",
    "\n",
    "# 3rd Convolutional Layer\n",
    "model.add(QuantConv2D(384, (3, 3),**kwargs,\n",
    "                                use_bias=False,data_format='channels_last',\n",
    "                                strides=(1,1), padding=\"same\"))\n",
    "model.add(tf.keras.layers.Activation(binary_tanh))\n",
    "\n",
    "# 4th Convolutional Layer\n",
    "model.add(QuantConv2D(384, (3, 3),**kwargs,\n",
    "                                use_bias=False,data_format='channels_last',\n",
    "                                strides=(1,1), padding=\"same\"))\n",
    "model.add(tf.keras.layers.Activation(binary_tanh))\n",
    "\n",
    "# 5th Convolutional Layer\n",
    "model.add(QuantConv2D(256, (3, 3),**kwargs,\n",
    "                                use_bias=False,data_format='channels_last',\n",
    "                                strides=(1,1), padding=\"same\"))\n",
    "\n",
    "model.add(tf.keras.layers.Activation(binary_tanh))\n",
    "\n",
    "# Max Pooling\n",
    "model.add(tf.keras.layers.MaxPooling2D(pool_size=(3,3), strides=(2,2), padding=\"valid\"))\n",
    "\n",
    "# Passing it to a Fully Connected layer\n",
    "model.add(Flatten())\n",
    "# 1st Fully Connected Layer\n",
    "model.add(QuantDense(9216, **kwargs))\n",
    "model.add(tf.keras.layers.Activation(binary_tanh))\n",
    "\n",
    "# 2nd Fully Connected Layer\n",
    "model.add(QuantDense(4096, **kwargs))\n",
    "model.add(tf.keras.layers.Activation(binary_tanh))\n",
    "\n",
    "# 3rd Fully Connected Layer\n",
    "model.add(QuantDense(4096, **kwargs))\n",
    "model.add(tf.keras.layers.Activation(binary_tanh))\n",
    "\n",
    "# Output Layer\n",
    "model.add(QuantDense(2, use_bias=False, **kwargs)) #As we have two classes\n",
    "model.add(tf.keras.layers.Activation(\"softmax\"))\n"
   ]
  },
  {
   "cell_type": "code",
   "execution_count": 5,
   "metadata": {},
   "outputs": [
    {
     "name": "stdout",
     "output_type": "stream",
     "text": [
      "Model: \"sequential\"\n",
      "_________________________________________________________________\n",
      "Layer (type)                 Output Shape              Param #   \n",
      "=================================================================\n",
      "quant_conv2d (QuantConv2D)   (None, 55, 55, 96)        34848     \n",
      "_________________________________________________________________\n",
      "max_pooling2d (MaxPooling2D) (None, 27, 27, 96)        0         \n",
      "_________________________________________________________________\n",
      "quant_conv2d_1 (QuantConv2D) (None, 27, 27, 256)       614400    \n",
      "_________________________________________________________________\n",
      "activation (Activation)      (None, 27, 27, 256)       0         \n",
      "_________________________________________________________________\n",
      "max_pooling2d_1 (MaxPooling2 (None, 13, 13, 256)       0         \n",
      "_________________________________________________________________\n",
      "quant_conv2d_2 (QuantConv2D) (None, 13, 13, 384)       884736    \n",
      "_________________________________________________________________\n",
      "activation_1 (Activation)    (None, 13, 13, 384)       0         \n",
      "_________________________________________________________________\n",
      "quant_conv2d_3 (QuantConv2D) (None, 13, 13, 384)       1327104   \n",
      "_________________________________________________________________\n",
      "activation_2 (Activation)    (None, 13, 13, 384)       0         \n",
      "_________________________________________________________________\n",
      "quant_conv2d_4 (QuantConv2D) (None, 13, 13, 256)       884736    \n",
      "_________________________________________________________________\n",
      "activation_3 (Activation)    (None, 13, 13, 256)       0         \n",
      "_________________________________________________________________\n",
      "max_pooling2d_2 (MaxPooling2 (None, 6, 6, 256)         0         \n",
      "_________________________________________________________________\n",
      "flatten (Flatten)            (None, 9216)              0         \n",
      "_________________________________________________________________\n",
      "quant_dense (QuantDense)     (None, 9216)              84943872  \n",
      "_________________________________________________________________\n",
      "activation_4 (Activation)    (None, 9216)              0         \n",
      "_________________________________________________________________\n",
      "quant_dense_1 (QuantDense)   (None, 4096)              37752832  \n",
      "_________________________________________________________________\n",
      "activation_5 (Activation)    (None, 4096)              0         \n",
      "_________________________________________________________________\n",
      "quant_dense_2 (QuantDense)   (None, 4096)              16781312  \n",
      "_________________________________________________________________\n",
      "activation_6 (Activation)    (None, 4096)              0         \n",
      "_________________________________________________________________\n",
      "quant_dense_3 (QuantDense)   (None, 2)                 8192      \n",
      "_________________________________________________________________\n",
      "activation_7 (Activation)    (None, 2)                 0         \n",
      "=================================================================\n",
      "Total params: 143,232,032\n",
      "Trainable params: 143,232,032\n",
      "Non-trainable params: 0\n",
      "_________________________________________________________________\n",
      "+sequential stats-----------------------------------------------------------------------------------------+\n",
      "| Layer            Input prec.            Outputs    # 1-bit  # 32-bit    Memory  1-bit MACs  32-bit MACs |\n",
      "|                        (bit)                           x 1       x 1      (kB)                          |\n",
      "+---------------------------------------------------------------------------------------------------------+\n",
      "| quant_conv2d               -   (-1, 55, 55, 96)      34848         0      4.25           0    105415200 |\n",
      "| max_pooling2d              -   (-1, 27, 27, 96)          0         0         0           0            0 |\n",
      "| quant_conv2d_1             1  (-1, 27, 27, 256)     614400         0     75.00   447897600            0 |\n",
      "| activation                 -  (-1, 27, 27, 256)          0         0         0           ?            ? |\n",
      "| max_pooling2d_1            -  (-1, 13, 13, 256)          0         0         0           0            0 |\n",
      "| quant_conv2d_2             1  (-1, 13, 13, 384)     884736         0    108.00   149520384            0 |\n",
      "| activation_1               -  (-1, 13, 13, 384)          0         0         0           ?            ? |\n",
      "| quant_conv2d_3             1  (-1, 13, 13, 384)    1327104         0    162.00   224280576            0 |\n",
      "| activation_2               -  (-1, 13, 13, 384)          0         0         0           ?            ? |\n",
      "| quant_conv2d_4             1  (-1, 13, 13, 256)     884736         0    108.00   149520384            0 |\n",
      "| activation_3               -  (-1, 13, 13, 256)          0         0         0           ?            ? |\n",
      "| max_pooling2d_2            -    (-1, 6, 6, 256)          0         0         0           0            0 |\n",
      "| flatten                    -         (-1, 9216)          0         0         0           0            0 |\n",
      "| quant_dense                1         (-1, 9216)   84934656      9216  10404.00    84934656            0 |\n",
      "| activation_4               -         (-1, 9216)          0         0         0           ?            ? |\n",
      "| quant_dense_1              1         (-1, 4096)   37748736      4096   4624.00    37748736            0 |\n",
      "| activation_5               -         (-1, 4096)          0         0         0           ?            ? |\n",
      "| quant_dense_2              1         (-1, 4096)   16777216      4096   2064.00    16777216            0 |\n",
      "| activation_6               -         (-1, 4096)          0         0         0           ?            ? |\n",
      "| quant_dense_3              1            (-1, 2)       8192         0      1.00        8192            0 |\n",
      "| activation_7               -            (-1, 2)          0         0         0           ?            ? |\n",
      "+---------------------------------------------------------------------------------------------------------+\n",
      "| Total                                            143214624     17408  17550.25  1110687744    105415200 |\n",
      "+---------------------------------------------------------------------------------------------------------+\n",
      "+sequential summary----------------------+\n",
      "| Total params                 143 M     |\n",
      "| Trainable params             143 M     |\n",
      "| Non-trainable params         0         |\n",
      "| Model size:                  17.14 MB  |\n",
      "| Float-32 Equivalent          546.39 MB |\n",
      "| Compression Ratio of Memory  0.03      |\n",
      "+----------------------------------------+\n"
     ]
    }
   ],
   "source": [
    "opt = Adam(lr=0.001)\n",
    "model.compile(optimizer=opt, loss=keras.losses.categorical_crossentropy, metrics=['accuracy'])\n",
    "model.summary()\n",
    "summary(model)\n"
   ]
  },
  {
   "cell_type": "code",
   "execution_count": 6,
   "metadata": {},
   "outputs": [],
   "source": [
    "#defining Earlystopping callback and saving the best model for future use\n",
    "from keras.callbacks import ModelCheckpoint, EarlyStopping\n",
    "\n",
    "checkpoint = ModelCheckpoint(\"alexnet_fp_bnn.h5\", monitor='val_acc', verbose=1, save_best_only=True, save_weights_only=False, mode='auto', period=1)\n",
    "\n",
    "early = EarlyStopping(monitor='val_acc', min_delta=0, patience=20, verbose=1, mode='auto')"
   ]
  },
  {
   "cell_type": "code",
   "execution_count": 7,
   "metadata": {},
   "outputs": [
    {
     "name": "stdout",
     "output_type": "stream",
     "text": [
      "Epoch 1/40\n",
      "WARNING:tensorflow:From C:\\Users\\Manas\\Downloads\\record\\quantized\\quantizers.py:76: add_dispatch_support.<locals>.wrapper (from tensorflow.python.ops.array_ops) is deprecated and will be removed in a future version.\n",
      "Instructions for updating:\n",
      "Use tf.where in 2.0, which has the same broadcast rule as np.where\n",
      "1/2 [==============>...............] - ETA: 19s - loss: 33.3125 - acc: 0.5938\n",
      "Epoch 00001: val_acc improved from -inf to 0.49687, saving model to alexnet_fp_bnn.h5\n",
      "2/2 [==============================] - 252s 126s/step - loss: 34.5312 - acc: 0.6250 - val_loss: 1.1332 - val_acc: 0.4969\n",
      "Epoch 2/40\n",
      "1/2 [==============>...............] - ETA: 11s - loss: 1.1894 - acc: 0.4688\n",
      "Epoch 00002: val_acc did not improve from 0.49687\n",
      "2/2 [==============================] - 36s 18s/step - loss: 42.2197 - acc: 0.4531 - val_loss: 22.1375 - val_acc: 0.4969\n",
      "Epoch 3/40\n",
      "1/2 [==============>...............] - ETA: 8s - loss: 28.8750 - acc: 0.3438\n",
      "Epoch 00003: val_acc improved from 0.49687 to 0.50313, saving model to alexnet_fp_bnn.h5\n",
      "2/2 [==============================] - 86s 43s/step - loss: 39.4062 - acc: 0.4062 - val_loss: 63.6000 - val_acc: 0.5031\n",
      "Epoch 4/40\n",
      "1/2 [==============>...............] - ETA: 9s - loss: 60.0000 - acc: 0.5312\n",
      "Epoch 00004: val_acc did not improve from 0.50313\n",
      "2/2 [==============================] - 44s 22s/step - loss: 35.2500 - acc: 0.5469 - val_loss: 36.2250 - val_acc: 0.4969\n",
      "Epoch 5/40\n",
      "1/2 [==============>...............] - ETA: 7s - loss: 38.2500 - acc: 0.4688\n",
      "Epoch 00005: val_acc did not improve from 0.50313\n",
      "2/2 [==============================] - 29s 15s/step - loss: 36.0000 - acc: 0.4531 - val_loss: 10.0625 - val_acc: 0.4969\n",
      "Epoch 6/40\n",
      "1/2 [==============>...............] - ETA: 7s - loss: 6.8750 - acc: 0.6562\n",
      "Epoch 00006: val_acc did not improve from 0.50313\n",
      "2/2 [==============================] - 25s 12s/step - loss: 4.3216 - acc: 0.6094 - val_loss: 29.8125 - val_acc: 0.5031\n",
      "Epoch 7/40\n",
      "1/2 [==============>...............] - ETA: 4s - loss: 37.5000 - acc: 0.3750\n",
      "Epoch 00007: val_acc did not improve from 0.50313\n",
      "2/2 [==============================] - 22s 11s/step - loss: 39.7188 - acc: 0.5156 - val_loss: 41.2563 - val_acc: 0.4969\n",
      "Epoch 8/40\n",
      "1/2 [==============>...............] - ETA: 4s - loss: 41.0000 - acc: 0.5000\n",
      "Epoch 00008: val_acc did not improve from 0.50313\n",
      "2/2 [==============================] - 21s 11s/step - loss: 28.7500 - acc: 0.5625 - val_loss: 7.9500 - val_acc: 0.5031\n",
      "Epoch 9/40\n",
      "1/2 [==============>...............] - ETA: 4s - loss: 11.0000 - acc: 0.3125\n",
      "Epoch 00009: val_acc did not improve from 0.50313\n",
      "2/2 [==============================] - 21s 11s/step - loss: 14.7812 - acc: 0.4844 - val_loss: 25.8375 - val_acc: 0.5031\n",
      "Epoch 10/40\n",
      "1/2 [==============>...............] - ETA: 3s - loss: 30.8750 - acc: 0.4062\n",
      "Epoch 00010: val_acc did not improve from 0.50313\n",
      "2/2 [==============================] - 20s 10s/step - loss: 29.5000 - acc: 0.4219 - val_loss: 4.9688 - val_acc: 0.5031\n",
      "Epoch 11/40\n",
      "1/2 [==============>...............] - ETA: 4s - loss: 5.0000 - acc: 0.5000\n",
      "Epoch 00011: val_acc did not improve from 0.50313\n",
      "2/2 [==============================] - 21s 11s/step - loss: 11.0000 - acc: 0.4844 - val_loss: 6.9563 - val_acc: 0.5031\n",
      "Epoch 12/40\n",
      "1/2 [==============>...............] - ETA: 4s - loss: 7.4375 - acc: 0.4688\n",
      "Epoch 00012: val_acc did not improve from 0.50313\n",
      "2/2 [==============================] - 22s 11s/step - loss: 5.7189 - acc: 0.4844 - val_loss: 13.0813 - val_acc: 0.4969\n",
      "Epoch 13/40\n",
      "1/2 [==============>...............] - ETA: 3s - loss: 13.0000 - acc: 0.5000\n",
      "Epoch 00013: val_acc did not improve from 0.50313\n",
      "2/2 [==============================] - 21s 10s/step - loss: 9.1250 - acc: 0.5312 - val_loss: 23.8500 - val_acc: 0.5031\n",
      "Epoch 14/40\n",
      "1/2 [==============>...............] - ETA: 4s - loss: 19.5000 - acc: 0.5938\n",
      "Epoch 00014: val_acc did not improve from 0.50313\n",
      "2/2 [==============================] - 21s 11s/step - loss: 16.3125 - acc: 0.5781 - val_loss: 5.9625 - val_acc: 0.5031\n",
      "Epoch 15/40\n",
      "1/2 [==============>...............] - ETA: 4s - loss: 4.5000 - acc: 0.6250\n",
      "Epoch 00015: val_acc did not improve from 0.50313\n",
      "2/2 [==============================] - 21s 11s/step - loss: 10.6875 - acc: 0.5781 - val_loss: 18.1125 - val_acc: 0.4969\n",
      "Epoch 16/40\n",
      "1/2 [==============>...............] - ETA: 4s - loss: 12.3750 - acc: 0.6562\n",
      "Epoch 00016: val_acc did not improve from 0.50313\n",
      "2/2 [==============================] - 21s 11s/step - loss: 9.1875 - acc: 0.5781 - val_loss: 52.6688 - val_acc: 0.5031\n",
      "Epoch 17/40\n",
      "1/2 [==============>...............] - ETA: 4s - loss: 53.0000 - acc: 0.5000\n",
      "Epoch 00017: val_acc did not improve from 0.50313\n",
      "2/2 [==============================] - 23s 12s/step - loss: 30.6250 - acc: 0.4062 - val_loss: 48.6938 - val_acc: 0.5031\n",
      "Epoch 18/40\n",
      "1/2 [==============>...............] - ETA: 4s - loss: 33.6875 - acc: 0.6562\n",
      "Epoch 00018: val_acc did not improve from 0.50313\n",
      "2/2 [==============================] - 22s 11s/step - loss: 47.8438 - acc: 0.5781 - val_loss: 34.7812 - val_acc: 0.5031\n",
      "Epoch 19/40\n",
      "1/2 [==============>...............] - ETA: 3s - loss: 35.0000 - acc: 0.5000\n",
      "Epoch 00019: val_acc did not improve from 0.50313\n",
      "2/2 [==============================] - 22s 11s/step - loss: 19.0012 - acc: 0.5000 - val_loss: 11.0687 - val_acc: 0.4969\n",
      "Epoch 20/40\n",
      "1/2 [==============>...............] - ETA: 4s - loss: 8.2500 - acc: 0.6250\n",
      "Epoch 00020: val_acc did not improve from 0.50313\n",
      "2/2 [==============================] - 22s 11s/step - loss: 22.2500 - acc: 0.5000 - val_loss: 34.2125 - val_acc: 0.4969\n",
      "Epoch 21/40\n",
      "1/2 [==============>...............] - ETA: 4s - loss: 36.1250 - acc: 0.4688\n",
      "Epoch 00021: val_acc did not improve from 0.50313\n",
      "2/2 [==============================] - 22s 11s/step - loss: 31.0000 - acc: 0.3750 - val_loss: 5.0313 - val_acc: 0.4969\n",
      "Epoch 22/40\n",
      "1/2 [==============>...............] - ETA: 4s - loss: 4.3750 - acc: 0.5625\n",
      "Epoch 00022: val_acc did not improve from 0.50313\n",
      "2/2 [==============================] - 22s 11s/step - loss: 26.0938 - acc: 0.5469 - val_loss: 23.8500 - val_acc: 0.5031\n",
      "Epoch 23/40\n",
      "1/2 [==============>...............] - ETA: 4s - loss: 25.5000 - acc: 0.4688\n",
      "Epoch 00023: val_acc did not improve from 0.50313\n",
      "2/2 [==============================] - 23s 11s/step - loss: 34.2500 - acc: 0.4844 - val_loss: 9.9375 - val_acc: 0.5031\n",
      "Epoch 00023: early stopping\n"
     ]
    }
   ],
   "source": [
    "#training and validating train and validation data respectively\n",
    "hist = model.fit_generator(steps_per_epoch=2,generator=traindata, validation_data= testdata, \n",
    "                           validation_steps=10,epochs=40,callbacks=[checkpoint,early])"
   ]
  },
  {
   "cell_type": "code",
   "execution_count": 8,
   "metadata": {},
   "outputs": [
    {
     "name": "stdout",
     "output_type": "stream",
     "text": [
      "Saved model to disk\n"
     ]
    }
   ],
   "source": [
    "#saving model for future use\n",
    "model.save(\"model_alexnet_mnist_bnn_bit.h5\")\n",
    "print(\"Saved model to disk\")"
   ]
  },
  {
   "cell_type": "code",
   "execution_count": 9,
   "metadata": {},
   "outputs": [
    {
     "name": "stdout",
     "output_type": "stream",
     "text": [
      "Training maximum accuracy: 62.50 %\n",
      "Validation maximum accuracy: 50.31 %\n",
      "Training model minimum loss: 4.321575045585632\n",
      "Validation model minimum loss : 1.1331780910491944\n"
     ]
    },
    {
     "data": {
      "image/png": "[encoded data removed]",
      "text/plain": [
       "<Figure size 432x288 with 1 Axes>"
      ]
     },
     "metadata": {
      "needs_background": "light"
     },
     "output_type": "display_data"
    },
    {
     "data": {
      "image/png": "[encoded data removed]",
      "text/plain": [
       "<Figure size 432x288 with 1 Axes>"
      ]
     },
     "metadata": {
      "needs_background": "light"
     },
     "output_type": "display_data"
    }
   ],
   "source": [
    "#Graph represenattaion of loss and accuracy\n",
    "plt.figure()\n",
    "plt.plot(hist.history[\"acc\"])\n",
    "plt.plot(hist.history[\"val_acc\"])\n",
    "plt.title('BNN model accuracy')\n",
    "plt.ylabel('accuracy')\n",
    "plt.xlabel('epoch')\n",
    "plt.legend(['train', 'Validation'], loc='lower right')\n",
    "plt.figure()\n",
    "print(f\"Training maximum accuracy: {np.max(hist.history['acc']) * 100:.2f} %\")\n",
    "print(f\"Validation maximum accuracy: {np.max(hist.history['val_acc']) * 100:.2f} %\")\n",
    "plt.plot(hist.history['loss'])\n",
    "plt.plot(hist.history['val_loss'])\n",
    "plt.title('BNN model loss')\n",
    "plt.ylabel('loss')\n",
    "plt.xlabel('epoch')\n",
    "plt.legend(['train_loss', 'Validation_loss'], loc='upper right')\n",
    "\n",
    "print(f\"Training model minimum loss: {np.min(hist.history['loss'])}\")\n",
    "print(f\"Validation model minimum loss : {np.min(hist.history['val_loss']) }\")\n"
   ]
  },
  {
   "cell_type": "code",
   "execution_count": null,
   "metadata": {},
   "outputs": [],
   "source": []
  }
 ],
 "metadata": {
  "kernelspec": {
   "display_name": "Python 3",
   "language": "python",
   "name": "python3"
  },
  "language_info": {
   "codemirror_mode": {
    "name": "ipython",
    "version": 3
   },
   "file_extension": ".py",
   "mimetype": "text/x-python",
   "name": "python",
   "nbconvert_exporter": "python",
   "pygments_lexer": "ipython3",
   "version": "3.7.6"
  }
 },
 "nbformat": 4,
 "nbformat_minor": 2
}
