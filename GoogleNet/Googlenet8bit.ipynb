{
 "cells": [
  {
   "cell_type": "code",
   "execution_count": 9,
   "metadata": {
    "colab": {
     "base_uri": "https://localhost:8080/",
     "height": 79
    },
    "colab_type": "code",
    "id": "cQ2Mx1qVuXs9",
    "outputId": "7a22eff0-aabc-4d5f-ce07-7eaa6abbc2c4"
   },
   "outputs": [
    {
     "name": "stderr",
     "output_type": "stream",
     "text": [
      "Using TensorFlow backend.\n"
     ]
    },
    {
     "data": {
      "text/html": [
       "<p style=\"color: red;\">\n",
       "The default version of TensorFlow in Colab will soon switch to TensorFlow 2.x.<br>\n",
       "We recommend you <a href=\"https://www.tensorflow.org/guide/migrate\" target=\"_blank\">upgrade</a> now \n",
       "or ensure your notebook will continue to use TensorFlow 1.x via the <code>%tensorflow_version 1.x</code> magic:\n",
       "<a href=\"https://colab.research.google.com/notebooks/tensorflow_version.ipynb\" target=\"_blank\">more info</a>.</p>\n"
      ],
      "text/plain": [
       "<IPython.core.display.HTML object>"
      ]
     },
     "metadata": {
      "tags": []
     },
     "output_type": "display_data"
    }
   ],
   "source": [
    "import numpy as np\n",
    "np.random.seed(100)\n",
    "\n",
    "import keras\n",
    "import matplotlib.pyplot as plt\n",
    "from keras import backend as K\n",
    "from keras.models import Model\n",
    "from keras.layers import Conv2D, MaxPool2D,Dropout, Dense, Input, concatenate,GlobalAveragePooling2D, AveragePooling2D,Flatten\n",
    "from keras.optimizers import Adam,SGD,Adagrad,Adadelta,RMSprop\n",
    "from keras.utils import to_categorical\n",
    "from keras.utils import to_categorical\n",
    "from keras.callbacks import ModelCheckpoint, EarlyStopping\n",
    "from keras.preprocessing.image import ImageDataGenerator\n",
    "\n",
    "from quantized_ops import quantized_relu as quantize_op\n",
    "from quantized_layers import QuantizedDense, QuantizedConv2D\n"
   ]
  },
  {
   "cell_type": "code",
   "execution_count": 0,
   "metadata": {
    "colab": {},
    "colab_type": "code",
    "id": "pgvqzdbjehNW"
   },
   "outputs": [],
   "source": [
    "#customized activation function\n",
    "def quantized_relu(x):\n",
    "    return quantize_op(x,nb=8)"
   ]
  },
  {
   "cell_type": "code",
   "execution_count": 0,
   "metadata": {
    "colab": {},
    "colab_type": "code",
    "id": "RhQYmUWHev5n"
   },
   "outputs": [],
   "source": [
    "#H = 1.\n",
    "kernel_initializer = 'glorot_uniform'\n",
    "classes = 2\n",
    "use_bias = keras.initializers.Constant(value=0.2)\n",
    "nb=8 #this nb defines no of bits for precision"
   ]
  },
  {
   "cell_type": "code",
   "execution_count": 0,
   "metadata": {
    "colab": {},
    "colab_type": "code",
    "id": "b-JG-iidumve"
   },
   "outputs": [],
   "source": [
    "#inception net basic module function to be used while creating network\n",
    "def inception_module(x,\n",
    "                     filters_1x1,\n",
    "                     filters_3x3_reduce,\n",
    "                     filters_3x3,\n",
    "                     filters_5x5_reduce,\n",
    "                     filters_5x5,\n",
    "                     filters_pool_proj,\n",
    "                     name=None):\n",
    "    \n",
    "    conv_1x1=QuantizedConv2D(filters_1x1, kernel_size=1, nb=nb,kernel_initializer=kernel_initializer,padding='same', use_bias=use_bias,activation=quantized_relu)(x)\n",
    "\n",
    "    conv_3x3=QuantizedConv2D(filters_3x3_reduce, kernel_size=1, nb=nb,kernel_initializer=kernel_initializer,padding='same', use_bias=use_bias,activation=quantized_relu)(x)\n",
    "    conv_3x3=QuantizedConv2D(filters_3x3, kernel_size=3, nb=nb,kernel_initializer=kernel_initializer,padding='same', use_bias=use_bias,activation=quantized_relu)(conv_3x3)\n",
    "\n",
    "    conv_5x5=QuantizedConv2D(filters_5x5_reduce, kernel_size=1, nb=nb,kernel_initializer=kernel_initializer,padding='same', use_bias=use_bias,activation=quantized_relu)(x)\n",
    "    conv_5x5=QuantizedConv2D(filters_5x5, kernel_size=5, nb=nb,kernel_initializer=kernel_initializer,padding='same', use_bias=use_bias,activation=quantized_relu)(conv_5x5)\n",
    "\n",
    "    pool_proj = MaxPool2D((3, 3), strides=(1, 1), padding='same')(x)\n",
    "    pool_proj=QuantizedConv2D(filters_pool_proj, kernel_size=1, nb=nb,kernel_initializer=kernel_initializer,padding='same', use_bias=use_bias,activation=quantized_relu)(pool_proj)\n",
    "\n",
    "    output = concatenate([conv_1x1, conv_3x3, conv_5x5, pool_proj], axis=3, name=name)\n",
    "    \n",
    "    return output"
   ]
  },
  {
   "cell_type": "code",
   "execution_count": 14,
   "metadata": {
    "colab": {
     "base_uri": "https://localhost:8080/",
     "height": 321
    },
    "colab_type": "code",
    "id": "2Qx7qPiPur-b",
    "outputId": "5e27ecd0-c1fd-4d36-bdb9-2342342d2141"
   },
   "outputs": [
    {
     "name": "stdout",
     "output_type": "stream",
     "text": [
      "WARNING:tensorflow:From /usr/local/lib/python3.6/dist-packages/keras/backend/tensorflow_backend.py:66: The name tf.get_default_graph is deprecated. Please use tf.compat.v1.get_default_graph instead.\n",
      "\n",
      "WARNING:tensorflow:From /usr/local/lib/python3.6/dist-packages/keras/backend/tensorflow_backend.py:541: The name tf.placeholder is deprecated. Please use tf.compat.v1.placeholder instead.\n",
      "\n",
      "WARNING:tensorflow:From /usr/local/lib/python3.6/dist-packages/keras/backend/tensorflow_backend.py:4432: The name tf.random_uniform is deprecated. Please use tf.random.uniform instead.\n",
      "\n",
      "WARNING:tensorflow:From /usr/local/lib/python3.6/dist-packages/keras/backend/tensorflow_backend.py:4267: The name tf.nn.max_pool is deprecated. Please use tf.nn.max_pool2d instead.\n",
      "\n",
      "WARNING:tensorflow:From /usr/local/lib/python3.6/dist-packages/keras/backend/tensorflow_backend.py:4271: The name tf.nn.avg_pool is deprecated. Please use tf.nn.avg_pool2d instead.\n",
      "\n",
      "WARNING:tensorflow:From /usr/local/lib/python3.6/dist-packages/keras/backend/tensorflow_backend.py:148: The name tf.placeholder_with_default is deprecated. Please use tf.compat.v1.placeholder_with_default instead.\n",
      "\n",
      "WARNING:tensorflow:From /usr/local/lib/python3.6/dist-packages/keras/backend/tensorflow_backend.py:3733: calling dropout (from tensorflow.python.ops.nn_ops) with keep_prob is deprecated and will be removed in a future version.\n",
      "Instructions for updating:\n",
      "Please use `rate` instead of `keep_prob`. Rate should be set to `rate = 1 - keep_prob`.\n",
      "WARNING:tensorflow:Large dropout rate: 0.7 (>0.5). In TensorFlow 2.x, dropout() uses dropout rate instead of keep_prob. Please ensure that this is intended.\n",
      "WARNING:tensorflow:Large dropout rate: 0.7 (>0.5). In TensorFlow 2.x, dropout() uses dropout rate instead of keep_prob. Please ensure that this is intended.\n"
     ]
    }
   ],
   "source": [
    "#creating layers of GoogleNet\n",
    "input_layer = Input(shape=(227, 227, 3))\n",
    "np.random.seed(0)\n",
    "#x = Conv2D(64, (7, 7), padding='same', strides=(2, 2), activation='relu', name='conv_1_7x7/2', kernel_initializer=kernel_init, bias_initializer=bias_init)(input_layer)\n",
    "x=QuantizedConv2D(64, kernel_size=7,strides=2, nb=nb,kernel_initializer=kernel_initializer,padding='same', use_bias=use_bias,activation='relu',name='conv_1_7x7/2')(input_layer)\n",
    "x = MaxPool2D((3, 3), padding='same', strides=(2, 2), name='max_pool_1_3x3/2')(x)\n",
    "#x = Conv2D(64, (1, 1), padding='same', strides=(1, 1), activation='relu', name='conv_2a_3x3/1')(x)\n",
    "x=QuantizedConv2D(64, kernel_size=1,strides=1, nb=nb,padding='same',activation=quantized_relu,name='conv_2a_3x3/1')(x)\n",
    "#x = Conv2D(192, (3, 3), padding='same', strides=(1, 1), activation='relu', name='conv_2b_3x3/1')(x)\n",
    "x=QuantizedConv2D(192, kernel_size=3,strides=1, nb=nb,padding='same',activation=quantized_relu,name='conv_2b_3x3/1')(x)\n",
    "x = MaxPool2D((3, 3), padding='same', strides=(2, 2), name='max_pool_2_3x3/2')(x)\n",
    "\n",
    "x = inception_module(x,\n",
    "                     filters_1x1=64,\n",
    "                     filters_3x3_reduce=96,\n",
    "                     filters_3x3=128,\n",
    "                     filters_5x5_reduce=16,\n",
    "                     filters_5x5=32,\n",
    "                     filters_pool_proj=32,\n",
    "                     name='inception_3a')\n",
    "\n",
    "x = inception_module(x,\n",
    "                     filters_1x1=128,\n",
    "                     filters_3x3_reduce=128,\n",
    "                     filters_3x3=192,\n",
    "                     filters_5x5_reduce=32,\n",
    "                     filters_5x5=96,\n",
    "                     filters_pool_proj=64,\n",
    "                     name='inception_3b')\n",
    "\n",
    "x = MaxPool2D((3, 3), padding='same', strides=(2, 2), name='max_pool_3_3x3/2')(x)\n",
    "\n",
    "x = inception_module(x,\n",
    "                     filters_1x1=192,\n",
    "                     filters_3x3_reduce=96,\n",
    "                     filters_3x3=208,\n",
    "                     filters_5x5_reduce=16,\n",
    "                     filters_5x5=48,\n",
    "                     filters_pool_proj=64,\n",
    "                     name='inception_4a')\n",
    "\n",
    "\n",
    "x1 = AveragePooling2D((5, 5), strides=3)(x)\n",
    "#x1 = Conv2D(128, (1, 1), padding='same', activation='relu')(x1)\n",
    "x1 = QuantizedConv2D(128, kernel_size=1, nb=nb,padding='same',activation=quantized_relu)(x1)\n",
    "\n",
    "x1 = Flatten()(x1)\n",
    "#x1 = Dense(1024, activation='relu')(x1)\n",
    "x1=  QuantizedDense(1024, activation=quantized_relu)(x1)\n",
    "x1 = Dropout(0.7)(x1)\n",
    "x1 = Dense(2, activation='softmax', name='auxilliary_output_1')(x1)\n",
    "\n",
    "x = inception_module(x,\n",
    "                     filters_1x1=160,\n",
    "                     filters_3x3_reduce=112,\n",
    "                     filters_3x3=224,\n",
    "                     filters_5x5_reduce=24,\n",
    "                     filters_5x5=64,\n",
    "                     filters_pool_proj=64,\n",
    "                     name='inception_4b')\n",
    "\n",
    "x = inception_module(x,\n",
    "                     filters_1x1=128,\n",
    "                     filters_3x3_reduce=128,\n",
    "                     filters_3x3=256,\n",
    "                     filters_5x5_reduce=24,\n",
    "                     filters_5x5=64,\n",
    "                     filters_pool_proj=64,\n",
    "                     name='inception_4c')\n",
    "\n",
    "x = inception_module(x,\n",
    "                     filters_1x1=112,\n",
    "                     filters_3x3_reduce=144,\n",
    "                     filters_3x3=288,\n",
    "                     filters_5x5_reduce=32,\n",
    "                     filters_5x5=64,\n",
    "                     filters_pool_proj=64,\n",
    "                     name='inception_4d')\n",
    "\n",
    "\n",
    "x2 = AveragePooling2D((5, 5), strides=3)(x)\n",
    "#x2 = Conv2D(128, (1, 1), padding='same', activation='relu')(x2)\n",
    "x2 = QuantizedConv2D(128, kernel_size=1, nb=nb,padding='same',activation=quantized_relu)(x2)\n",
    "x2 = Flatten()(x2)\n",
    "#x2 = Dense(1024, activation='relu')(x2)\n",
    "x2=  QuantizedDense(1024, activation=quantized_relu)(x2)\n",
    "x2 = Dropout(0.7)(x2)\n",
    "x2 = Dense(2, activation='softmax', name='auxilliary_output_2')(x2)\n",
    "\n",
    "x = inception_module(x,\n",
    "                     filters_1x1=256,\n",
    "                     filters_3x3_reduce=160,\n",
    "                     filters_3x3=320,\n",
    "                     filters_5x5_reduce=32,\n",
    "                     filters_5x5=128,\n",
    "                     filters_pool_proj=128,\n",
    "                     name='inception_4e')\n",
    "\n",
    "x = MaxPool2D((3, 3), padding='same', strides=(2, 2), name='max_pool_4_3x3/2')(x)\n",
    "\n",
    "x = inception_module(x,\n",
    "                     filters_1x1=256,\n",
    "                     filters_3x3_reduce=160,\n",
    "                     filters_3x3=320,\n",
    "                     filters_5x5_reduce=32,\n",
    "                     filters_5x5=128,\n",
    "                     filters_pool_proj=128,\n",
    "                     name='inception_5a')\n",
    "\n",
    "x = inception_module(x,\n",
    "                     filters_1x1=384,\n",
    "                     filters_3x3_reduce=192,\n",
    "                     filters_3x3=384,\n",
    "                     filters_5x5_reduce=48,\n",
    "                     filters_5x5=128,\n",
    "                     filters_pool_proj=128,\n",
    "                     name='inception_5b')\n",
    "\n",
    "x = GlobalAveragePooling2D(name='avg_pool_5_3x3/1')(x)\n",
    "\n",
    "x = Dropout(0.4)(x)\n",
    "\n",
    "x = Dense(2, activation='softmax', name='output')(x)"
   ]
  },
  {
   "cell_type": "code",
   "execution_count": 15,
   "metadata": {
    "colab": {
     "base_uri": "https://localhost:8080/",
     "height": 1000
    },
    "colab_type": "code",
    "id": "2pTTEgS2vACD",
    "outputId": "4cf513a8-526d-4b43-8a98-cfb0ddbda4ac"
   },
   "outputs": [
    {
     "name": "stdout",
     "output_type": "stream",
     "text": [
      "Model: \"inception_v1_8-Bit\"\n",
      "__________________________________________________________________________________________________\n",
      "Layer (type)                    Output Shape         Param #     Connected to                     \n",
      "==================================================================================================\n",
      "input_1 (InputLayer)            (None, 227, 227, 3)  0                                            \n",
      "__________________________________________________________________________________________________\n",
      "conv_1_7x7/2 (QuantizedConv2D)  (None, 114, 114, 64) 9472        input_1[0][0]                    \n",
      "__________________________________________________________________________________________________\n",
      "max_pool_1_3x3/2 (MaxPooling2D) (None, 57, 57, 64)   0           conv_1_7x7/2[0][0]               \n",
      "__________________________________________________________________________________________________\n",
      "conv_2a_3x3/1 (QuantizedConv2D) (None, 57, 57, 64)   4160        max_pool_1_3x3/2[0][0]           \n",
      "__________________________________________________________________________________________________\n",
      "conv_2b_3x3/1 (QuantizedConv2D) (None, 57, 57, 192)  110784      conv_2a_3x3/1[0][0]              \n",
      "__________________________________________________________________________________________________\n",
      "max_pool_2_3x3/2 (MaxPooling2D) (None, 29, 29, 192)  0           conv_2b_3x3/1[0][0]              \n",
      "__________________________________________________________________________________________________\n",
      "quantized_conv2d_2 (QuantizedCo (None, 29, 29, 96)   18528       max_pool_2_3x3/2[0][0]           \n",
      "__________________________________________________________________________________________________\n",
      "quantized_conv2d_4 (QuantizedCo (None, 29, 29, 16)   3088        max_pool_2_3x3/2[0][0]           \n",
      "__________________________________________________________________________________________________\n",
      "max_pooling2d_1 (MaxPooling2D)  (None, 29, 29, 192)  0           max_pool_2_3x3/2[0][0]           \n",
      "__________________________________________________________________________________________________\n",
      "quantized_conv2d_1 (QuantizedCo (None, 29, 29, 64)   12352       max_pool_2_3x3/2[0][0]           \n",
      "__________________________________________________________________________________________________\n",
      "quantized_conv2d_3 (QuantizedCo (None, 29, 29, 128)  110720      quantized_conv2d_2[0][0]         \n",
      "__________________________________________________________________________________________________\n",
      "quantized_conv2d_5 (QuantizedCo (None, 29, 29, 32)   12832       quantized_conv2d_4[0][0]         \n",
      "__________________________________________________________________________________________________\n",
      "quantized_conv2d_6 (QuantizedCo (None, 29, 29, 32)   6176        max_pooling2d_1[0][0]            \n",
      "__________________________________________________________________________________________________\n",
      "inception_3a (Concatenate)      (None, 29, 29, 256)  0           quantized_conv2d_1[0][0]         \n",
      "                                                                 quantized_conv2d_3[0][0]         \n",
      "                                                                 quantized_conv2d_5[0][0]         \n",
      "                                                                 quantized_conv2d_6[0][0]         \n",
      "__________________________________________________________________________________________________\n",
      "quantized_conv2d_8 (QuantizedCo (None, 29, 29, 128)  32896       inception_3a[0][0]               \n",
      "__________________________________________________________________________________________________\n",
      "quantized_conv2d_10 (QuantizedC (None, 29, 29, 32)   8224        inception_3a[0][0]               \n",
      "__________________________________________________________________________________________________\n",
      "max_pooling2d_2 (MaxPooling2D)  (None, 29, 29, 256)  0           inception_3a[0][0]               \n",
      "__________________________________________________________________________________________________\n",
      "quantized_conv2d_7 (QuantizedCo (None, 29, 29, 128)  32896       inception_3a[0][0]               \n",
      "__________________________________________________________________________________________________\n",
      "quantized_conv2d_9 (QuantizedCo (None, 29, 29, 192)  221376      quantized_conv2d_8[0][0]         \n",
      "__________________________________________________________________________________________________\n",
      "quantized_conv2d_11 (QuantizedC (None, 29, 29, 96)   76896       quantized_conv2d_10[0][0]        \n",
      "__________________________________________________________________________________________________\n",
      "quantized_conv2d_12 (QuantizedC (None, 29, 29, 64)   16448       max_pooling2d_2[0][0]            \n",
      "__________________________________________________________________________________________________\n",
      "inception_3b (Concatenate)      (None, 29, 29, 480)  0           quantized_conv2d_7[0][0]         \n",
      "                                                                 quantized_conv2d_9[0][0]         \n",
      "                                                                 quantized_conv2d_11[0][0]        \n",
      "                                                                 quantized_conv2d_12[0][0]        \n",
      "__________________________________________________________________________________________________\n",
      "max_pool_3_3x3/2 (MaxPooling2D) (None, 15, 15, 480)  0           inception_3b[0][0]               \n",
      "__________________________________________________________________________________________________\n",
      "quantized_conv2d_14 (QuantizedC (None, 15, 15, 96)   46176       max_pool_3_3x3/2[0][0]           \n",
      "__________________________________________________________________________________________________\n",
      "quantized_conv2d_16 (QuantizedC (None, 15, 15, 16)   7696        max_pool_3_3x3/2[0][0]           \n",
      "__________________________________________________________________________________________________\n",
      "max_pooling2d_3 (MaxPooling2D)  (None, 15, 15, 480)  0           max_pool_3_3x3/2[0][0]           \n",
      "__________________________________________________________________________________________________\n",
      "quantized_conv2d_13 (QuantizedC (None, 15, 15, 192)  92352       max_pool_3_3x3/2[0][0]           \n",
      "__________________________________________________________________________________________________\n",
      "quantized_conv2d_15 (QuantizedC (None, 15, 15, 208)  179920      quantized_conv2d_14[0][0]        \n",
      "__________________________________________________________________________________________________\n",
      "quantized_conv2d_17 (QuantizedC (None, 15, 15, 48)   19248       quantized_conv2d_16[0][0]        \n",
      "__________________________________________________________________________________________________\n",
      "quantized_conv2d_18 (QuantizedC (None, 15, 15, 64)   30784       max_pooling2d_3[0][0]            \n",
      "__________________________________________________________________________________________________\n",
      "inception_4a (Concatenate)      (None, 15, 15, 512)  0           quantized_conv2d_13[0][0]        \n",
      "                                                                 quantized_conv2d_15[0][0]        \n",
      "                                                                 quantized_conv2d_17[0][0]        \n",
      "                                                                 quantized_conv2d_18[0][0]        \n",
      "__________________________________________________________________________________________________\n",
      "quantized_conv2d_21 (QuantizedC (None, 15, 15, 112)  57456       inception_4a[0][0]               \n",
      "__________________________________________________________________________________________________\n",
      "quantized_conv2d_23 (QuantizedC (None, 15, 15, 24)   12312       inception_4a[0][0]               \n",
      "__________________________________________________________________________________________________\n",
      "max_pooling2d_4 (MaxPooling2D)  (None, 15, 15, 512)  0           inception_4a[0][0]               \n",
      "__________________________________________________________________________________________________\n",
      "quantized_conv2d_20 (QuantizedC (None, 15, 15, 160)  82080       inception_4a[0][0]               \n",
      "__________________________________________________________________________________________________\n",
      "quantized_conv2d_22 (QuantizedC (None, 15, 15, 224)  226016      quantized_conv2d_21[0][0]        \n",
      "__________________________________________________________________________________________________\n",
      "quantized_conv2d_24 (QuantizedC (None, 15, 15, 64)   38464       quantized_conv2d_23[0][0]        \n",
      "__________________________________________________________________________________________________\n",
      "quantized_conv2d_25 (QuantizedC (None, 15, 15, 64)   32832       max_pooling2d_4[0][0]            \n",
      "__________________________________________________________________________________________________\n",
      "inception_4b (Concatenate)      (None, 15, 15, 512)  0           quantized_conv2d_20[0][0]        \n",
      "                                                                 quantized_conv2d_22[0][0]        \n",
      "                                                                 quantized_conv2d_24[0][0]        \n",
      "                                                                 quantized_conv2d_25[0][0]        \n",
      "__________________________________________________________________________________________________\n",
      "quantized_conv2d_27 (QuantizedC (None, 15, 15, 128)  65664       inception_4b[0][0]               \n",
      "__________________________________________________________________________________________________\n",
      "quantized_conv2d_29 (QuantizedC (None, 15, 15, 24)   12312       inception_4b[0][0]               \n",
      "__________________________________________________________________________________________________\n",
      "max_pooling2d_5 (MaxPooling2D)  (None, 15, 15, 512)  0           inception_4b[0][0]               \n",
      "__________________________________________________________________________________________________\n",
      "quantized_conv2d_26 (QuantizedC (None, 15, 15, 128)  65664       inception_4b[0][0]               \n",
      "__________________________________________________________________________________________________\n",
      "quantized_conv2d_28 (QuantizedC (None, 15, 15, 256)  295168      quantized_conv2d_27[0][0]        \n",
      "__________________________________________________________________________________________________\n",
      "quantized_conv2d_30 (QuantizedC (None, 15, 15, 64)   38464       quantized_conv2d_29[0][0]        \n",
      "__________________________________________________________________________________________________\n",
      "quantized_conv2d_31 (QuantizedC (None, 15, 15, 64)   32832       max_pooling2d_5[0][0]            \n",
      "__________________________________________________________________________________________________\n",
      "inception_4c (Concatenate)      (None, 15, 15, 512)  0           quantized_conv2d_26[0][0]        \n",
      "                                                                 quantized_conv2d_28[0][0]        \n",
      "                                                                 quantized_conv2d_30[0][0]        \n",
      "                                                                 quantized_conv2d_31[0][0]        \n",
      "__________________________________________________________________________________________________\n",
      "quantized_conv2d_33 (QuantizedC (None, 15, 15, 144)  73872       inception_4c[0][0]               \n",
      "__________________________________________________________________________________________________\n",
      "quantized_conv2d_35 (QuantizedC (None, 15, 15, 32)   16416       inception_4c[0][0]               \n",
      "__________________________________________________________________________________________________\n",
      "max_pooling2d_6 (MaxPooling2D)  (None, 15, 15, 512)  0           inception_4c[0][0]               \n",
      "__________________________________________________________________________________________________\n",
      "quantized_conv2d_32 (QuantizedC (None, 15, 15, 112)  57456       inception_4c[0][0]               \n",
      "__________________________________________________________________________________________________\n",
      "quantized_conv2d_34 (QuantizedC (None, 15, 15, 288)  373536      quantized_conv2d_33[0][0]        \n",
      "__________________________________________________________________________________________________\n",
      "quantized_conv2d_36 (QuantizedC (None, 15, 15, 64)   51264       quantized_conv2d_35[0][0]        \n",
      "__________________________________________________________________________________________________\n",
      "quantized_conv2d_37 (QuantizedC (None, 15, 15, 64)   32832       max_pooling2d_6[0][0]            \n",
      "__________________________________________________________________________________________________\n",
      "inception_4d (Concatenate)      (None, 15, 15, 528)  0           quantized_conv2d_32[0][0]        \n",
      "                                                                 quantized_conv2d_34[0][0]        \n",
      "                                                                 quantized_conv2d_36[0][0]        \n",
      "                                                                 quantized_conv2d_37[0][0]        \n",
      "__________________________________________________________________________________________________\n",
      "quantized_conv2d_40 (QuantizedC (None, 15, 15, 160)  84640       inception_4d[0][0]               \n",
      "__________________________________________________________________________________________________\n",
      "quantized_conv2d_42 (QuantizedC (None, 15, 15, 32)   16928       inception_4d[0][0]               \n",
      "__________________________________________________________________________________________________\n",
      "max_pooling2d_7 (MaxPooling2D)  (None, 15, 15, 528)  0           inception_4d[0][0]               \n",
      "__________________________________________________________________________________________________\n",
      "quantized_conv2d_39 (QuantizedC (None, 15, 15, 256)  135424      inception_4d[0][0]               \n",
      "__________________________________________________________________________________________________\n",
      "quantized_conv2d_41 (QuantizedC (None, 15, 15, 320)  461120      quantized_conv2d_40[0][0]        \n",
      "__________________________________________________________________________________________________\n",
      "quantized_conv2d_43 (QuantizedC (None, 15, 15, 128)  102528      quantized_conv2d_42[0][0]        \n",
      "__________________________________________________________________________________________________\n",
      "quantized_conv2d_44 (QuantizedC (None, 15, 15, 128)  67712       max_pooling2d_7[0][0]            \n",
      "__________________________________________________________________________________________________\n",
      "inception_4e (Concatenate)      (None, 15, 15, 832)  0           quantized_conv2d_39[0][0]        \n",
      "                                                                 quantized_conv2d_41[0][0]        \n",
      "                                                                 quantized_conv2d_43[0][0]        \n",
      "                                                                 quantized_conv2d_44[0][0]        \n",
      "__________________________________________________________________________________________________\n",
      "max_pool_4_3x3/2 (MaxPooling2D) (None, 8, 8, 832)    0           inception_4e[0][0]               \n",
      "__________________________________________________________________________________________________\n",
      "quantized_conv2d_46 (QuantizedC (None, 8, 8, 160)    133280      max_pool_4_3x3/2[0][0]           \n",
      "__________________________________________________________________________________________________\n",
      "quantized_conv2d_48 (QuantizedC (None, 8, 8, 32)     26656       max_pool_4_3x3/2[0][0]           \n",
      "__________________________________________________________________________________________________\n",
      "max_pooling2d_8 (MaxPooling2D)  (None, 8, 8, 832)    0           max_pool_4_3x3/2[0][0]           \n",
      "__________________________________________________________________________________________________\n",
      "quantized_conv2d_45 (QuantizedC (None, 8, 8, 256)    213248      max_pool_4_3x3/2[0][0]           \n",
      "__________________________________________________________________________________________________\n",
      "quantized_conv2d_47 (QuantizedC (None, 8, 8, 320)    461120      quantized_conv2d_46[0][0]        \n",
      "__________________________________________________________________________________________________\n",
      "quantized_conv2d_49 (QuantizedC (None, 8, 8, 128)    102528      quantized_conv2d_48[0][0]        \n",
      "__________________________________________________________________________________________________\n",
      "quantized_conv2d_50 (QuantizedC (None, 8, 8, 128)    106624      max_pooling2d_8[0][0]            \n",
      "__________________________________________________________________________________________________\n",
      "inception_5a (Concatenate)      (None, 8, 8, 832)    0           quantized_conv2d_45[0][0]        \n",
      "                                                                 quantized_conv2d_47[0][0]        \n",
      "                                                                 quantized_conv2d_49[0][0]        \n",
      "                                                                 quantized_conv2d_50[0][0]        \n",
      "__________________________________________________________________________________________________\n",
      "quantized_conv2d_52 (QuantizedC (None, 8, 8, 192)    159936      inception_5a[0][0]               \n",
      "__________________________________________________________________________________________________\n",
      "quantized_conv2d_54 (QuantizedC (None, 8, 8, 48)     39984       inception_5a[0][0]               \n",
      "__________________________________________________________________________________________________\n",
      "max_pooling2d_9 (MaxPooling2D)  (None, 8, 8, 832)    0           inception_5a[0][0]               \n",
      "__________________________________________________________________________________________________\n",
      "quantized_conv2d_51 (QuantizedC (None, 8, 8, 384)    319872      inception_5a[0][0]               \n",
      "__________________________________________________________________________________________________\n",
      "quantized_conv2d_53 (QuantizedC (None, 8, 8, 384)    663936      quantized_conv2d_52[0][0]        \n",
      "__________________________________________________________________________________________________\n",
      "quantized_conv2d_55 (QuantizedC (None, 8, 8, 128)    153728      quantized_conv2d_54[0][0]        \n",
      "__________________________________________________________________________________________________\n",
      "quantized_conv2d_56 (QuantizedC (None, 8, 8, 128)    106624      max_pooling2d_9[0][0]            \n",
      "__________________________________________________________________________________________________\n",
      "inception_5b (Concatenate)      (None, 8, 8, 1024)   0           quantized_conv2d_51[0][0]        \n",
      "                                                                 quantized_conv2d_53[0][0]        \n",
      "                                                                 quantized_conv2d_55[0][0]        \n",
      "                                                                 quantized_conv2d_56[0][0]        \n",
      "__________________________________________________________________________________________________\n",
      "avg_pool_5_3x3/1 (GlobalAverage (None, 1024)         0           inception_5b[0][0]               \n",
      "__________________________________________________________________________________________________\n",
      "dropout_3 (Dropout)             (None, 1024)         0           avg_pool_5_3x3/1[0][0]           \n",
      "__________________________________________________________________________________________________\n",
      "output (Dense)                  (None, 2)            2050        dropout_3[0][0]                  \n",
      "==================================================================================================\n",
      "Total params: 5,975,602\n",
      "Trainable params: 5,975,602\n",
      "Non-trainable params: 0\n",
      "__________________________________________________________________________________________________\n"
     ]
    }
   ],
   "source": [
    "model = Model(input_layer, x, name='inception_v1_8-Bit')\n",
    "#if you want to use full feature of googlenet use below command but this inflate number of parameters by twice and vey slow\n",
    "#model = Model(input_layer, [x,x1,x2], name='inception_v1') \n",
    "model.summary()"
   ]
  },
  {
   "cell_type": "code",
   "execution_count": 17,
   "metadata": {
    "colab": {
     "base_uri": "https://localhost:8080/",
     "height": 50
    },
    "colab_type": "code",
    "id": "4zmjFNxt0KoS",
    "outputId": "639e20ad-fb07-4c19-d244-0ad3c550b4be"
   },
   "outputs": [
    {
     "name": "stdout",
     "output_type": "stream",
     "text": [
      "Found 8005 images belonging to 2 classes.\n",
      "Found 2023 images belonging to 2 classes.\n"
     ]
    }
   ],
   "source": [
    "#loading and preprocessing data from dataset\n",
    "#please change path as per dataset in your system\n",
    "trdata = ImageDataGenerator()\n",
    "traindata = trdata.flow_from_directory(directory=\"training_set/training_set\",target_size=(227,227))\n",
    "tsdata = ImageDataGenerator()\n",
    "testdata = tsdata.flow_from_directory(directory=\"test_set/test_set\", target_size=(227,227))\n"
   ]
  },
  {
   "cell_type": "code",
   "execution_count": 18,
   "metadata": {
    "colab": {
     "base_uri": "https://localhost:8080/",
     "height": 104
    },
    "colab_type": "code",
    "id": "_n8MrrM50023",
    "outputId": "f41e080f-b44e-49c4-e911-457b4657af4f"
   },
   "outputs": [
    {
     "name": "stdout",
     "output_type": "stream",
     "text": [
      "WARNING:tensorflow:From /usr/local/lib/python3.6/dist-packages/keras/optimizers.py:793: The name tf.train.Optimizer is deprecated. Please use tf.compat.v1.train.Optimizer instead.\n",
      "\n",
      "WARNING:tensorflow:From /usr/local/lib/python3.6/dist-packages/keras/backend/tensorflow_backend.py:3576: The name tf.log is deprecated. Please use tf.math.log instead.\n",
      "\n"
     ]
    }
   ],
   "source": [
    "from keras.optimizers import Adam\n",
    "opt = Adam(lr=0.001)\n",
    "model.compile(optimizer=opt, loss=keras.losses.categorical_crossentropy, metrics=['accuracy'])"
   ]
  },
  {
   "cell_type": "code",
   "execution_count": 20,
   "metadata": {
    "colab": {
     "base_uri": "https://localhost:8080/",
     "height": 1000
    },
    "colab_type": "code",
    "id": "qQHehglC0jhK",
    "outputId": "74b22a55-a199-4fa1-feb5-4ef5421afcfe"
   },
   "outputs": [
    {
     "name": "stdout",
     "output_type": "stream",
     "text": [
      "Epoch 1/150\n",
      "2/2 [==============================] - 29s 15s/step - loss: 0.8003 - acc: 0.4688 - val_loss: 0.7263 - val_acc: 0.5062\n",
      "\n",
      "Epoch 00001: val_acc improved from -inf to 0.50625, saving model to googlenet_8-Bit.h5\n",
      "Epoch 2/150\n",
      "2/2 [==============================] - 28s 14s/step - loss: 0.7434 - acc: 0.5469 - val_loss: 0.7876 - val_acc: 0.5344\n",
      "\n",
      "Epoch 00002: val_acc improved from 0.50625 to 0.53438, saving model to googlenet_8-Bit.h5\n",
      "Epoch 3/150\n",
      "2/2 [==============================] - 28s 14s/step - loss: 0.8003 - acc: 0.5156 - val_loss: 0.7142 - val_acc: 0.5375\n",
      "\n",
      "Epoch 00003: val_acc improved from 0.53438 to 0.53750, saving model to googlenet_8-Bit.h5\n",
      "Epoch 4/150\n",
      "2/2 [==============================] - 28s 14s/step - loss: 0.7433 - acc: 0.5000 - val_loss: 0.6884 - val_acc: 0.5375\n",
      "\n",
      "Epoch 00004: val_acc did not improve from 0.53750\n",
      "Epoch 5/150\n",
      "2/2 [==============================] - 29s 14s/step - loss: 0.7916 - acc: 0.4219 - val_loss: 0.7098 - val_acc: 0.5531\n",
      "\n",
      "Epoch 00005: val_acc improved from 0.53750 to 0.55312, saving model to googlenet_8-Bit.h5\n",
      "Epoch 6/150\n",
      "2/2 [==============================] - 28s 14s/step - loss: 0.8608 - acc: 0.4375 - val_loss: 0.7156 - val_acc: 0.4719\n",
      "\n",
      "Epoch 00006: val_acc did not improve from 0.55312\n",
      "Epoch 7/150\n",
      "2/2 [==============================] - 27s 14s/step - loss: 0.7902 - acc: 0.4688 - val_loss: 0.6944 - val_acc: 0.5085\n",
      "\n",
      "Epoch 00007: val_acc did not improve from 0.55312\n",
      "Epoch 8/150\n",
      "2/2 [==============================] - 29s 14s/step - loss: 0.7627 - acc: 0.5000 - val_loss: 0.6901 - val_acc: 0.5406\n",
      "\n",
      "Epoch 00008: val_acc did not improve from 0.55312\n",
      "Epoch 9/150\n",
      "2/2 [==============================] - 28s 14s/step - loss: 0.7484 - acc: 0.4531 - val_loss: 0.6943 - val_acc: 0.4938\n",
      "\n",
      "Epoch 00009: val_acc did not improve from 0.55312\n",
      "Epoch 10/150\n",
      "2/2 [==============================] - 28s 14s/step - loss: 0.6810 - acc: 0.5938 - val_loss: 0.6999 - val_acc: 0.4531\n",
      "\n",
      "Epoch 00010: val_acc did not improve from 0.55312\n",
      "Epoch 11/150\n",
      "2/2 [==============================] - 28s 14s/step - loss: 0.7441 - acc: 0.5156 - val_loss: 0.7226 - val_acc: 0.5031\n",
      "\n",
      "Epoch 00011: val_acc did not improve from 0.55312\n",
      "Epoch 12/150\n",
      "2/2 [==============================] - 28s 14s/step - loss: 0.7697 - acc: 0.5156 - val_loss: 0.7313 - val_acc: 0.4969\n",
      "\n",
      "Epoch 00012: val_acc did not improve from 0.55312\n",
      "Epoch 13/150\n",
      "2/2 [==============================] - 27s 14s/step - loss: 0.7750 - acc: 0.5156 - val_loss: 0.7061 - val_acc: 0.4949\n",
      "\n",
      "Epoch 00013: val_acc did not improve from 0.55312\n",
      "Epoch 14/150\n",
      "2/2 [==============================] - 28s 14s/step - loss: 0.7697 - acc: 0.4844 - val_loss: 0.6961 - val_acc: 0.4750\n",
      "\n",
      "Epoch 00014: val_acc did not improve from 0.55312\n",
      "Epoch 15/150\n",
      "2/2 [==============================] - 29s 14s/step - loss: 0.6804 - acc: 0.5781 - val_loss: 0.6930 - val_acc: 0.5312\n",
      "\n",
      "Epoch 00015: val_acc did not improve from 0.55312\n",
      "Epoch 16/150\n",
      "2/2 [==============================] - 28s 14s/step - loss: 0.7685 - acc: 0.5156 - val_loss: 0.7072 - val_acc: 0.5188\n",
      "\n",
      "Epoch 00016: val_acc did not improve from 0.55312\n",
      "Epoch 17/150\n",
      "2/2 [==============================] - 28s 14s/step - loss: 0.7444 - acc: 0.4844 - val_loss: 0.7249 - val_acc: 0.4969\n",
      "\n",
      "Epoch 00017: val_acc did not improve from 0.55312\n",
      "Epoch 18/150\n",
      "2/2 [==============================] - 28s 14s/step - loss: 0.6735 - acc: 0.5625 - val_loss: 0.7147 - val_acc: 0.5000\n",
      "\n",
      "Epoch 00018: val_acc did not improve from 0.55312\n",
      "Epoch 19/150\n",
      "2/2 [==============================] - 28s 14s/step - loss: 0.8365 - acc: 0.4688 - val_loss: 0.6942 - val_acc: 0.5219\n",
      "\n",
      "Epoch 00019: val_acc did not improve from 0.55312\n",
      "Epoch 20/150\n",
      "2/2 [==============================] - 27s 14s/step - loss: 0.7662 - acc: 0.5000 - val_loss: 0.7058 - val_acc: 0.5017\n",
      "\n",
      "Epoch 00020: val_acc did not improve from 0.55312\n",
      "Epoch 21/150\n",
      "2/2 [==============================] - 28s 14s/step - loss: 0.8579 - acc: 0.4844 - val_loss: 0.7085 - val_acc: 0.5031\n",
      "\n",
      "Epoch 00021: val_acc did not improve from 0.55312\n",
      "Epoch 22/150\n",
      "2/2 [==============================] - 28s 14s/step - loss: 0.7970 - acc: 0.4844 - val_loss: 0.6945 - val_acc: 0.4813\n",
      "\n",
      "Epoch 00022: val_acc did not improve from 0.55312\n",
      "Epoch 23/150\n",
      "2/2 [==============================] - 28s 14s/step - loss: 0.6798 - acc: 0.5938 - val_loss: 0.7217 - val_acc: 0.5062\n",
      "\n",
      "Epoch 00023: val_acc did not improve from 0.55312\n",
      "Epoch 24/150\n",
      "2/2 [==============================] - 28s 14s/step - loss: 0.8211 - acc: 0.5312 - val_loss: 0.7191 - val_acc: 0.5000\n",
      "\n",
      "Epoch 00024: val_acc did not improve from 0.55312\n",
      "Epoch 25/150\n",
      "2/2 [==============================] - 28s 14s/step - loss: 0.7077 - acc: 0.6094 - val_loss: 0.7020 - val_acc: 0.4938\n",
      "\n",
      "Epoch 00025: val_acc did not improve from 0.55312\n",
      "Epoch 00025: early stopping\n"
     ]
    },
    {
     "data": {
      "text/plain": [
       "'def generate_data_generator(generator, input_layer, x, x1, x2):\\n    genX1 = generator.flow(input_layer, x, seed=7)\\n    genX2 = generator.flow(input_layer, x1, seed=7)\\n    genX3 = generator.flow(input_layer, x2, seed=7)\\n    while True:\\n        X1i = genX1.next()\\n        X2i = genX2.next()\\n        X3i = genX3.next()\\n        yield X1i[0], [X1i[1], X2i[1],X3i[1]]\\n\\nhist = model.fit_generator(generate_data_generator(generator, input_layer, x, x1, x2),steps_per_epoch=10,generator=traindata, validation_data= testdata, validation_steps=10,epochs=10,callbacks=[checkpoint,early])'"
      ]
     },
     "execution_count": 20,
     "metadata": {
      "tags": []
     },
     "output_type": "execute_result"
    }
   ],
   "source": [
    "#defining Earlystopping callback and saving the best model for future use\n",
    "checkpoint = ModelCheckpoint(\"googlenet_8-Bit.h5\", monitor='val_acc', verbose=1, save_best_only=True, save_weights_only=False, mode='auto', period=1)\n",
    "early = EarlyStopping(monitor='val_acc', min_delta=0, patience=20, verbose=1, mode='auto')\n",
    "from keras.preprocessing.image import ImageDataGenerator\n",
    "\n",
    "#training and validating train and validation data respectively\n",
    "hist = model.fit_generator(steps_per_epoch=2,generator=traindata, validation_data= testdata, \n",
    "                           validation_steps=10,epochs=150,callbacks=[checkpoint,early],shuffle=False,use_multiprocessing=False)\n"
   ]
  },
  {
   "cell_type": "code",
   "execution_count": 21,
   "metadata": {
    "colab": {
     "base_uri": "https://localhost:8080/",
     "height": 33
    },
    "colab_type": "code",
    "id": "_jKCop9_AcUP",
    "outputId": "0f628494-b93a-4f8f-93e7-e149ce681910"
   },
   "outputs": [
    {
     "name": "stdout",
     "output_type": "stream",
     "text": [
      "Saved model to disk\n"
     ]
    }
   ],
   "source": [
    "#saving model for future use\n",
    "model.save(\"model_googlenet_8_bit.h5\")\n",
    "print(\"Saved model to disk\")\n"
   ]
  },
  {
   "cell_type": "code",
   "execution_count": 22,
   "metadata": {
    "colab": {
     "base_uri": "https://localhost:8080/",
     "height": 640
    },
    "colab_type": "code",
    "id": "hTVZwuQFWDzs",
    "outputId": "a33fb24e-3111-4d94-fbcb-8be0475bbe6b"
   },
   "outputs": [
    {
     "name": "stdout",
     "output_type": "stream",
     "text": [
      "Training maximum accuracy: 60.94 %\n",
      "Validation maximum accuracy: 55.31 %\n",
      "Training model minimum loss: 0.6735252737998962\n",
      "Validation model minimum loss : 0.6883958995342254\n"
     ]
    },
    {
     "data": {
      "image/png": "[encoded data removed]",
      "text/plain": [
       "<Figure size 432x288 with 1 Axes>"
      ]
     },
     "metadata": {
      "tags": []
     },
     "output_type": "display_data"
    },
    {
     "data": {
      "image/png": "[encoded data removed]",
      "text/plain": [
       "<Figure size 432x288 with 1 Axes>"
      ]
     },
     "metadata": {
      "tags": []
     },
     "output_type": "display_data"
    }
   ],
   "source": [
    "#Graph represenattaion of loss and accuracy\n",
    "plt.figure()\n",
    "plt.plot(hist.history[\"acc\"])\n",
    "plt.plot(hist.history[\"val_acc\"])\n",
    "plt.title('8Bit-model accuracy')\n",
    "plt.ylabel('accuracy')\n",
    "plt.xlabel('epoch')\n",
    "plt.legend(['train', 'Validation'], loc='lower right')\n",
    "plt.figure()\n",
    "print(f\"Training maximum accuracy: {np.max(hist.history['acc']) * 100:.2f} %\")\n",
    "print(f\"Validation maximum accuracy: {np.max(hist.history['val_acc']) * 100:.2f} %\")\n",
    "plt.plot(hist.history['loss'])\n",
    "plt.plot(hist.history['val_loss'])\n",
    "plt.title('model loss')\n",
    "plt.ylabel('loss')\n",
    "plt.xlabel('epoch')\n",
    "plt.legend(['train_loss', 'Validation_loss'], loc='upper right')\n",
    "\n",
    "print(f\"Training model minimum loss: {np.min(hist.history['loss'])}\")\n",
    "print(f\"Validation model minimum loss : {np.min(hist.history['val_loss']) }\")\n"
   ]
  }
 ],
 "metadata": {
  "colab": {
   "collapsed_sections": [],
   "machine_shape": "hm",
   "name": "Googlenet8bit.ipynb",
   "provenance": []
  },
  "kernelspec": {
   "display_name": "Python 3",
   "language": "python",
   "name": "python3"
  },
  "language_info": {
   "codemirror_mode": {
    "name": "ipython",
    "version": 3
   },
   "file_extension": ".py",
   "mimetype": "text/x-python",
   "name": "python",
   "nbconvert_exporter": "python",
   "pygments_lexer": "ipython3",
   "version": "3.7.6"
  }
 },
 "nbformat": 4,
 "nbformat_minor": 1
}
