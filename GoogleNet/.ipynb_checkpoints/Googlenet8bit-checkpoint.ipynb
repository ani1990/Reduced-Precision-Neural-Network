{
 "cells": [
  {
   "cell_type": "code",
   "execution_count": null,
   "metadata": {
    "colab": {
     "base_uri": "https://localhost:8080/",
     "height": 79
    },
    "colab_type": "code",
    "id": "cQ2Mx1qVuXs9",
    "outputId": "7a22eff0-aabc-4d5f-ce07-7eaa6abbc2c4"
   },
   "outputs": [],
   "source": [
    "import numpy as np\n",
    "np.random.seed(100)\n",
    "\n",
    "import keras\n",
    "import matplotlib.pyplot as plt\n",
    "from keras import backend as K\n",
    "from keras.models import Model\n",
    "from keras.layers import Conv2D, MaxPool2D,Dropout, Dense, Input, concatenate,GlobalAveragePooling2D, AveragePooling2D,Flatten\n",
    "from keras.optimizers import Adam,SGD,Adagrad,Adadelta,RMSprop\n",
    "from keras.utils import to_categorical\n",
    "from keras.utils import to_categorical\n",
    "from keras.callbacks import ModelCheckpoint, EarlyStopping\n",
    "from keras.preprocessing.image import ImageDataGenerator\n",
    "\n",
    "from quantized_ops import quantized_relu as quantize_op\n",
    "from quantized_layers import QuantizedDense, QuantizedConv2D\n"
   ]
  },
  {
   "cell_type": "code",
   "execution_count": null,
   "metadata": {
    "colab": {},
    "colab_type": "code",
    "id": "pgvqzdbjehNW"
   },
   "outputs": [],
   "source": [
    "#customized activation function\n",
    "def quantized_relu(x):\n",
    "    return quantize_op(x,nb=8)"
   ]
  },
  {
   "cell_type": "code",
   "execution_count": null,
   "metadata": {
    "colab": {},
    "colab_type": "code",
    "id": "RhQYmUWHev5n"
   },
   "outputs": [],
   "source": [
    "#H = 1.\n",
    "kernel_initializer = 'glorot_uniform'\n",
    "classes = 2\n",
    "use_bias = keras.initializers.Constant(value=0.2)\n",
    "nb=8 #this nb defines no of bits for precision"
   ]
  },
  {
   "cell_type": "code",
   "execution_count": null,
   "metadata": {
    "colab": {},
    "colab_type": "code",
    "id": "b-JG-iidumve"
   },
   "outputs": [],
   "source": [
    "#inception net basic module function to be used while creating network\n",
    "def inception_module(x,\n",
    "                     filters_1x1,\n",
    "                     filters_3x3_reduce,\n",
    "                     filters_3x3,\n",
    "                     filters_5x5_reduce,\n",
    "                     filters_5x5,\n",
    "                     filters_pool_proj,\n",
    "                     name=None):\n",
    "    \n",
    "    conv_1x1=QuantizedConv2D(filters_1x1, kernel_size=1, nb=nb,kernel_initializer=kernel_initializer,padding='same', use_bias=use_bias,activation=quantized_relu)(x)\n",
    "\n",
    "    conv_3x3=QuantizedConv2D(filters_3x3_reduce, kernel_size=1, nb=nb,kernel_initializer=kernel_initializer,padding='same', use_bias=use_bias,activation=quantized_relu)(x)\n",
    "    conv_3x3=QuantizedConv2D(filters_3x3, kernel_size=3, nb=nb,kernel_initializer=kernel_initializer,padding='same', use_bias=use_bias,activation=quantized_relu)(conv_3x3)\n",
    "\n",
    "    conv_5x5=QuantizedConv2D(filters_5x5_reduce, kernel_size=1, nb=nb,kernel_initializer=kernel_initializer,padding='same', use_bias=use_bias,activation=quantized_relu)(x)\n",
    "    conv_5x5=QuantizedConv2D(filters_5x5, kernel_size=5, nb=nb,kernel_initializer=kernel_initializer,padding='same', use_bias=use_bias,activation=quantized_relu)(conv_5x5)\n",
    "\n",
    "    pool_proj = MaxPool2D((3, 3), strides=(1, 1), padding='same')(x)\n",
    "    pool_proj=QuantizedConv2D(filters_pool_proj, kernel_size=1, nb=nb,kernel_initializer=kernel_initializer,padding='same', use_bias=use_bias,activation=quantized_relu)(pool_proj)\n",
    "\n",
    "    output = concatenate([conv_1x1, conv_3x3, conv_5x5, pool_proj], axis=3, name=name)\n",
    "    \n",
    "    return output"
   ]
  },
  {
   "cell_type": "code",
   "execution_count": null,
   "metadata": {
    "colab": {
     "base_uri": "https://localhost:8080/",
     "height": 321
    },
    "colab_type": "code",
    "id": "2Qx7qPiPur-b",
    "outputId": "5e27ecd0-c1fd-4d36-bdb9-2342342d2141"
   },
   "outputs": [],
   "source": [
    "#creating layers of GoogleNet\n",
    "input_layer = Input(shape=(227, 227, 3))\n",
    "np.random.seed(0)\n",
    "#x = Conv2D(64, (7, 7), padding='same', strides=(2, 2), activation='relu', name='conv_1_7x7/2', kernel_initializer=kernel_init, bias_initializer=bias_init)(input_layer)\n",
    "x=QuantizedConv2D(64, kernel_size=7,strides=2, nb=nb,kernel_initializer=kernel_initializer,padding='same', use_bias=use_bias,activation='relu',name='conv_1_7x7/2')(input_layer)\n",
    "x = MaxPool2D((3, 3), padding='same', strides=(2, 2), name='max_pool_1_3x3/2')(x)\n",
    "#x = Conv2D(64, (1, 1), padding='same', strides=(1, 1), activation='relu', name='conv_2a_3x3/1')(x)\n",
    "x=QuantizedConv2D(64, kernel_size=1,strides=1, nb=nb,padding='same',activation=quantized_relu,name='conv_2a_3x3/1')(x)\n",
    "#x = Conv2D(192, (3, 3), padding='same', strides=(1, 1), activation='relu', name='conv_2b_3x3/1')(x)\n",
    "x=QuantizedConv2D(192, kernel_size=3,strides=1, nb=nb,padding='same',activation=quantized_relu,name='conv_2b_3x3/1')(x)\n",
    "x = MaxPool2D((3, 3), padding='same', strides=(2, 2), name='max_pool_2_3x3/2')(x)\n",
    "\n",
    "x = inception_module(x,\n",
    "                     filters_1x1=64,\n",
    "                     filters_3x3_reduce=96,\n",
    "                     filters_3x3=128,\n",
    "                     filters_5x5_reduce=16,\n",
    "                     filters_5x5=32,\n",
    "                     filters_pool_proj=32,\n",
    "                     name='inception_3a')\n",
    "\n",
    "x = inception_module(x,\n",
    "                     filters_1x1=128,\n",
    "                     filters_3x3_reduce=128,\n",
    "                     filters_3x3=192,\n",
    "                     filters_5x5_reduce=32,\n",
    "                     filters_5x5=96,\n",
    "                     filters_pool_proj=64,\n",
    "                     name='inception_3b')\n",
    "\n",
    "x = MaxPool2D((3, 3), padding='same', strides=(2, 2), name='max_pool_3_3x3/2')(x)\n",
    "\n",
    "x = inception_module(x,\n",
    "                     filters_1x1=192,\n",
    "                     filters_3x3_reduce=96,\n",
    "                     filters_3x3=208,\n",
    "                     filters_5x5_reduce=16,\n",
    "                     filters_5x5=48,\n",
    "                     filters_pool_proj=64,\n",
    "                     name='inception_4a')\n",
    "\n",
    "\n",
    "x1 = AveragePooling2D((5, 5), strides=3)(x)\n",
    "#x1 = Conv2D(128, (1, 1), padding='same', activation='relu')(x1)\n",
    "x1 = QuantizedConv2D(128, kernel_size=1, nb=nb,padding='same',activation=quantized_relu)(x1)\n",
    "\n",
    "x1 = Flatten()(x1)\n",
    "#x1 = Dense(1024, activation='relu')(x1)\n",
    "x1=  QuantizedDense(1024, activation=quantized_relu)(x1)\n",
    "x1 = Dropout(0.7)(x1)\n",
    "x1 = Dense(2, activation='softmax', name='auxilliary_output_1')(x1)\n",
    "\n",
    "x = inception_module(x,\n",
    "                     filters_1x1=160,\n",
    "                     filters_3x3_reduce=112,\n",
    "                     filters_3x3=224,\n",
    "                     filters_5x5_reduce=24,\n",
    "                     filters_5x5=64,\n",
    "                     filters_pool_proj=64,\n",
    "                     name='inception_4b')\n",
    "\n",
    "x = inception_module(x,\n",
    "                     filters_1x1=128,\n",
    "                     filters_3x3_reduce=128,\n",
    "                     filters_3x3=256,\n",
    "                     filters_5x5_reduce=24,\n",
    "                     filters_5x5=64,\n",
    "                     filters_pool_proj=64,\n",
    "                     name='inception_4c')\n",
    "\n",
    "x = inception_module(x,\n",
    "                     filters_1x1=112,\n",
    "                     filters_3x3_reduce=144,\n",
    "                     filters_3x3=288,\n",
    "                     filters_5x5_reduce=32,\n",
    "                     filters_5x5=64,\n",
    "                     filters_pool_proj=64,\n",
    "                     name='inception_4d')\n",
    "\n",
    "\n",
    "x2 = AveragePooling2D((5, 5), strides=3)(x)\n",
    "#x2 = Conv2D(128, (1, 1), padding='same', activation='relu')(x2)\n",
    "x2 = QuantizedConv2D(128, kernel_size=1, nb=nb,padding='same',activation=quantized_relu)(x2)\n",
    "x2 = Flatten()(x2)\n",
    "#x2 = Dense(1024, activation='relu')(x2)\n",
    "x2=  QuantizedDense(1024, activation=quantized_relu)(x2)\n",
    "x2 = Dropout(0.7)(x2)\n",
    "x2 = Dense(2, activation='softmax', name='auxilliary_output_2')(x2)\n",
    "\n",
    "x = inception_module(x,\n",
    "                     filters_1x1=256,\n",
    "                     filters_3x3_reduce=160,\n",
    "                     filters_3x3=320,\n",
    "                     filters_5x5_reduce=32,\n",
    "                     filters_5x5=128,\n",
    "                     filters_pool_proj=128,\n",
    "                     name='inception_4e')\n",
    "\n",
    "x = MaxPool2D((3, 3), padding='same', strides=(2, 2), name='max_pool_4_3x3/2')(x)\n",
    "\n",
    "x = inception_module(x,\n",
    "                     filters_1x1=256,\n",
    "                     filters_3x3_reduce=160,\n",
    "                     filters_3x3=320,\n",
    "                     filters_5x5_reduce=32,\n",
    "                     filters_5x5=128,\n",
    "                     filters_pool_proj=128,\n",
    "                     name='inception_5a')\n",
    "\n",
    "x = inception_module(x,\n",
    "                     filters_1x1=384,\n",
    "                     filters_3x3_reduce=192,\n",
    "                     filters_3x3=384,\n",
    "                     filters_5x5_reduce=48,\n",
    "                     filters_5x5=128,\n",
    "                     filters_pool_proj=128,\n",
    "                     name='inception_5b')\n",
    "\n",
    "x = GlobalAveragePooling2D(name='avg_pool_5_3x3/1')(x)\n",
    "\n",
    "x = Dropout(0.4)(x)\n",
    "\n",
    "x = Dense(2, activation='softmax', name='output')(x)"
   ]
  },
  {
   "cell_type": "code",
   "execution_count": null,
   "metadata": {
    "colab": {
     "base_uri": "https://localhost:8080/",
     "height": 1000
    },
    "colab_type": "code",
    "id": "2pTTEgS2vACD",
    "outputId": "4cf513a8-526d-4b43-8a98-cfb0ddbda4ac"
   },
   "outputs": [],
   "source": [
    "model = Model(input_layer, x, name='inception_v1_8-Bit')\n",
    "#if you want to use full feature of googlenet use below command but this inflate number of parameters by twice and vey slow\n",
    "#model = Model(input_layer, [x,x1,x2], name='inception_v1') \n",
    "model.summary()"
   ]
  },
  {
   "cell_type": "code",
   "execution_count": null,
   "metadata": {
    "colab": {
     "base_uri": "https://localhost:8080/",
     "height": 50
    },
    "colab_type": "code",
    "id": "4zmjFNxt0KoS",
    "outputId": "639e20ad-fb07-4c19-d244-0ad3c550b4be"
   },
   "outputs": [],
   "source": [
    "#loading and preprocessing data from dataset\n",
    "#please change path as per dataset in your system\n",
    "trdata = ImageDataGenerator()\n",
    "traindata = trdata.flow_from_directory(directory=\"training_set/training_set\",target_size=(227,227))\n",
    "tsdata = ImageDataGenerator()\n",
    "testdata = tsdata.flow_from_directory(directory=\"test_set/test_set\", target_size=(227,227))\n"
   ]
  },
  {
   "cell_type": "code",
   "execution_count": null,
   "metadata": {
    "colab": {
     "base_uri": "https://localhost:8080/",
     "height": 104
    },
    "colab_type": "code",
    "id": "_n8MrrM50023",
    "outputId": "f41e080f-b44e-49c4-e911-457b4657af4f"
   },
   "outputs": [],
   "source": [
    "from keras.optimizers import Adam\n",
    "opt = Adam(lr=0.001)\n",
    "model.compile(optimizer=opt, loss=keras.losses.categorical_crossentropy, metrics=['accuracy'])"
   ]
  },
  {
   "cell_type": "code",
   "execution_count": null,
   "metadata": {
    "colab": {
     "base_uri": "https://localhost:8080/",
     "height": 1000
    },
    "colab_type": "code",
    "id": "qQHehglC0jhK",
    "outputId": "74b22a55-a199-4fa1-feb5-4ef5421afcfe"
   },
   "outputs": [],
   "source": [
    "#defining Earlystopping callback and saving the best model for future use\n",
    "checkpoint = ModelCheckpoint(\"googlenet_8-Bit.h5\", monitor='val_acc', verbose=1, save_best_only=True, save_weights_only=False, mode='auto', period=1)\n",
    "early = EarlyStopping(monitor='val_acc', min_delta=0, patience=20, verbose=1, mode='auto')\n",
    "from keras.preprocessing.image import ImageDataGenerator\n",
    "\n",
    "#training and validating train and validation data respectively\n",
    "hist = model.fit_generator(steps_per_epoch=2,generator=traindata, validation_data= testdata, \n",
    "                           validation_steps=10,epochs=150,callbacks=[checkpoint,early],shuffle=False,use_multiprocessing=False)\n"
   ]
  },
  {
   "cell_type": "code",
   "execution_count": null,
   "metadata": {
    "colab": {
     "base_uri": "https://localhost:8080/",
     "height": 33
    },
    "colab_type": "code",
    "id": "_jKCop9_AcUP",
    "outputId": "0f628494-b93a-4f8f-93e7-e149ce681910"
   },
   "outputs": [],
   "source": [
    "#saving model for future use\n",
    "model.save(\"model_googlenet_8_bit.h5\")\n",
    "print(\"Saved model to disk\")\n"
   ]
  },
  {
   "cell_type": "code",
   "execution_count": null,
   "metadata": {
    "colab": {
     "base_uri": "https://localhost:8080/",
     "height": 640
    },
    "colab_type": "code",
    "id": "hTVZwuQFWDzs",
    "outputId": "a33fb24e-3111-4d94-fbcb-8be0475bbe6b"
   },
   "outputs": [],
   "source": [
    "#Graph represenattaion of loss and accuracy\n",
    "plt.figure()\n",
    "plt.plot(hist.history[\"acc\"])\n",
    "plt.plot(hist.history[\"val_acc\"])\n",
    "plt.title('8Bit-model accuracy')\n",
    "plt.ylabel('accuracy')\n",
    "plt.xlabel('epoch')\n",
    "plt.legend(['train', 'Validation'], loc='lower right')\n",
    "plt.figure()\n",
    "print(f\"Training maximum accuracy: {np.max(hist.history['acc']) * 100:.2f} %\")\n",
    "print(f\"Validation maximum accuracy: {np.max(hist.history['val_acc']) * 100:.2f} %\")\n",
    "plt.plot(hist.history['loss'])\n",
    "plt.plot(hist.history['val_loss'])\n",
    "plt.title('model loss')\n",
    "plt.ylabel('loss')\n",
    "plt.xlabel('epoch')\n",
    "plt.legend(['train_loss', 'Validation_loss'], loc='upper right')\n",
    "\n",
    "print(f\"Training model minimum loss: {np.min(hist.history['loss'])}\")\n",
    "print(f\"Validation model minimum loss : {np.min(hist.history['val_loss']) }\")\n"
   ]
  }
 ],
 "metadata": {
  "colab": {
   "collapsed_sections": [],
   "machine_shape": "hm",
   "name": "Googlenet8bit.ipynb",
   "provenance": []
  },
  "kernelspec": {
   "display_name": "Python 3",
   "language": "python",
   "name": "python3"
  },
  "language_info": {
   "codemirror_mode": {
    "name": "ipython",
    "version": 3
   },
   "file_extension": ".py",
   "mimetype": "text/x-python",
   "name": "python",
   "nbconvert_exporter": "python",
   "pygments_lexer": "ipython3",
   "version": "3.7.3"
  }
 },
 "nbformat": 4,
 "nbformat_minor": 1
}
